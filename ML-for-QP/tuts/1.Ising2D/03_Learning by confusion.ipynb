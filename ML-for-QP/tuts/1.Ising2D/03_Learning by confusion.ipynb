{
 "cells": [
  {
   "cell_type": "markdown",
   "id": "consecutive-polish",
   "metadata": {},
   "source": [
    "# Notebook 3: Phase classification with neural networks\n",
    "\n",
    "In this notebook, we are going to learn a more sophisticated methods to classify phases of matter. Specifically, we want to build models that are able to discover new physics without previous labelling. Specifically, we will learn \n",
    "[Learning by Confusion](https://doi.org/10.1038/nphys4037)\n",
    "\n",
    "**Authors:** Kenny Choo, Mark H. Fischer, Eliska Greplova\n",
    "\n",
    "Adaptation for Summer School: ML in Quantum Physics and Chemistry (24.08.-03.09.2021, Warsaw) by Anna Dawid (e.g., introduction to methods)\n",
    "\n",
    "Adaptation for a Spring School on Theoretical and Computational Foundations of Quantum Technologies 2023 by Ilya Sinayskiy"
   ]
  },
  {
   "cell_type": "code",
   "execution_count": 1,
   "id": "burning-nurse",
   "metadata": {},
   "outputs": [
    {
     "name": "stderr",
     "output_type": "stream",
     "text": [
      "2023-10-25 07:49:33.216510: I tensorflow/core/platform/cpu_feature_guard.cc:182] This TensorFlow binary is optimized to use available CPU instructions in performance-critical operations.\n",
      "To enable the following instructions: AVX2 FMA, in other operations, rebuild TensorFlow with the appropriate compiler flags.\n"
     ]
    },
    {
     "name": "stdout",
     "output_type": "stream",
     "text": [
      "2.14.0\n"
     ]
    }
   ],
   "source": [
    "# Tensorflow import\n",
    "import tensorflow as tf\n",
    "from tensorflow import keras\n",
    "\n",
    "# Helper Libraries\n",
    "import numpy as np\n",
    "import matplotlib.pyplot as plt\n",
    "import matplotlib\n",
    "\n",
    "print(tf.__version__)"
   ]
  },
  {
   "cell_type": "markdown",
   "id": "traditional-slovakia",
   "metadata": {},
   "source": [
    "## Learning by confusion\n",
    "\n",
    "Learning by confusion is a ML scheme proposed by Evert van Nieuwenburg, Ye-Hua Liu, and Sebastian D. Huber in [this paper](https://doi.org/10.1038/nphys4037), where we use the supervised ML but avoid the need for labels. Ha! And you thought you knew what \"supervised\" meant![tekst linku](https://) "
   ]
  },
  {
   "cell_type": "markdown",
   "id": "compressed-kinase",
   "metadata": {},
   "source": [
    "## Step 1: Import data and analyze the data shape\n",
    "\n",
    "The folder `Ising` contains Monte Carlo generated Ising configurations on the two-dimensional lattice. The data set is divided into training and test parts and corresponding label files containing the temperature, $T$, of each Monte Carlo sample."
   ]
  },
  {
   "cell_type": "markdown",
   "id": "dependent-shore",
   "metadata": {},
   "source": [
    "### Ising Spin Configuration Classification\n",
    "\n",
    "The Ising model is given by the (classical) Hamiltonian:\n",
    "\n",
    "\\begin{align}\n",
    "H(\\boldsymbol{\\sigma}) = -\\sum_{<ij>} \\sigma_{i}\\sigma_{j},\n",
    "\\end{align}\n",
    "where the spins $\\sigma_{i} \\in \\lbrace -1, 1 \\rbrace$ are binary variables living on the vertices of a square lattice and the sum is taken over nearest neighbours $<ij>$. \n",
    "  \n",
    "At a given temperature $\\beta = 1/T$, the probability of a configuration $\\sigma$ is given by the Boltzmann distribution\n",
    "  \n",
    "\\begin{align}\n",
    "  P(\\boldsymbol{\\sigma}) = \\frac{e^{-\\beta H(\\boldsymbol{\\sigma})}}{Z},\n",
    " \\end{align}\n",
    "  \n",
    "  where $Z$ is the partition function. This model exhibits a phase transition from the ferromagnetic phase at low tempertures to a paramagnetic phase at high temperatures. The transition temperature is $T_c \\approx 2.2692$.\n",
    "  \n",
    "  **Task**\n",
    " \n",
    "1.   Classify the ferromagnetic versus the paramagnetic phase of the Ising model\n",
    "2.   Find the transition temperature\n",
    "  \n",
    "**Dataset**: Monte Carlo generated configurations on a 30x30 square lattice. The configuration are labelled by temperature.\n",
    "\n"
   ]
  },
  {
   "cell_type": "code",
   "execution_count": 2,
   "id": "resistant-hierarchy",
   "metadata": {},
   "outputs": [
    {
     "name": "stdout",
     "output_type": "stream",
     "text": [
      "train_images.shape = (1000, 30, 30)\n",
      "train_labels.shape = (1000,)\n",
      "test_images.shape = (1000, 30, 30)\n",
      "test_labels.shape = (1000,)\n"
     ]
    }
   ],
   "source": [
    "N = 30 # linear dimension of the lattice \n",
    "\n",
    "folder = \"Ising_data\"\n",
    "\n",
    "ising_training_configs = np.load(folder + \"/ising_training_configs_{0}x{0}.npy\".format(N))\n",
    "ising_training_labels = np.load(folder + \"/ising_training_labels_{0}x{0}.npy\".format(N))\n",
    "ising_test_configs = np.load(folder + \"/ising_test_configs_{0}x{0}.npy\".format(N))\n",
    "ising_test_labels = np.load(folder + \"/ising_test_labels_{0}x{0}.npy\".format(N))\n",
    "\n",
    "print('train_images.shape =', ising_training_configs.shape)\n",
    "print('train_labels.shape =', ising_training_labels.shape)\n",
    "print('test_images.shape =', ising_test_configs.shape)\n",
    "print('test_labels.shape =', ising_test_labels.shape)"
   ]
  },
  {
   "cell_type": "markdown",
   "id": "z-ywiPdO4naw",
   "metadata": {},
   "source": [
    "## Step 2: Create many sets of training and test data with various critical temperature, $T_c$\n",
    "\n",
    "e.g., try as many $T_c$ as you have test points."
   ]
  },
  {
   "cell_type": "markdown",
   "id": "0lzX7myP5VjU",
   "metadata": {},
   "source": [
    "## Step 3: Train $p$ DNNs on $p$ training sets and check their performance on $p$ test sets (created for different $T_c$)\n",
    "\n",
    "e.g., try a DNN with one hidden layer of 32 neurons and Adam as an optimizer\n",
    "\n",
    "(you can do Step 2 and 3 in one loop)"
   ]
  },
  {
   "cell_type": "markdown",
   "id": "07yWNoOb55If",
   "metadata": {},
   "source": [
    "## Step 4: Plot the accuracies of $p$ trained DNNs vs. $T_c$ chosen to create their training and test sets\n",
    "\n",
    "What do you see? What are advantages and disadvantages of the method?"
   ]
  },
  {
   "cell_type": "code",
   "execution_count": 5,
   "id": "partial-combination",
   "metadata": {},
   "outputs": [
    {
     "name": "stdout",
     "output_type": "stream",
     "text": [
      "Tp = 1.00\n",
      "Tp = 1.13\n",
      "Tp = 1.26\n",
      "Tp = 1.39\n",
      "Tp = 1.53\n",
      "Tp = 1.66\n",
      "Tp = 1.79\n",
      "Tp = 1.92\n",
      "Tp = 2.05\n",
      "Tp = 2.18\n",
      "Tp = 2.32\n",
      "Tp = 2.45\n",
      "Tp = 2.58\n",
      "Tp = 2.71\n",
      "Tp = 2.84\n",
      "Tp = 2.97\n",
      "Tp = 3.11\n",
      "Tp = 3.24\n",
      "Tp = 3.37\n",
      "Tp = 3.50\n"
     ]
    }
   ],
   "source": [
    "Tp = list(set(ising_test_labels))\n",
    "Tp.sort()\n",
    "accuracies = []\n",
    "\n",
    "train_images = ising_training_configs\n",
    "test_images = ising_test_configs\n",
    "\n",
    "for tp in Tp:\n",
    "    # Label training set\n",
    "    train_labels = []\n",
    "    for i, label in enumerate(ising_training_labels):\n",
    "        if label <= tp:\n",
    "            train_labels.append(1)\n",
    "        else:\n",
    "            train_labels.append(0)\n",
    "    train_labels = np.array(train_labels)\n",
    "  \n",
    "    # Label test set\n",
    "    test_labels = []\n",
    "    for i, label in enumerate(ising_test_labels):\n",
    "        if label <= tp:\n",
    "            test_labels.append(1)\n",
    "        else:\n",
    "            test_labels.append(0)\n",
    "    test_labels = np.array(test_labels)\n",
    "  \n",
    "    # Define our model\n",
    "    model = keras.Sequential([\n",
    "        keras.layers.Flatten(input_shape=(30, 30)),\n",
    "        keras.layers.Dense(32, activation=tf.nn.relu),\n",
    "        keras.layers.Dense(2, activation=tf.nn.softmax)\n",
    "    ])\n",
    "  \n",
    "    # Compile our model\n",
    "    model.compile(optimizer='adam',\n",
    "                  loss='sparse_categorical_crossentropy',\n",
    "                  metrics=['accuracy']) \n",
    "  \n",
    "    # Train\n",
    "    model.fit(train_images, train_labels, epochs = 10, batch_size = 16, verbose=0)\n",
    "  \n",
    "    # Evaluate and save accuracy\n",
    "    loss, acc = model.evaluate(test_images, test_labels, verbose=0)\n",
    "    accuracies.append(acc)\n",
    "  \n",
    "    print(\"Tp = {:.2f}\".format(tp))"
   ]
  },
  {
   "cell_type": "code",
   "execution_count": 6,
   "id": "mighty-sugar",
   "metadata": {},
   "outputs": [
    {
     "data": {
      "text/plain": [
       "Text(0.5, 0, 'Temp')"
      ]
     },
     "execution_count": 6,
     "metadata": {},
     "output_type": "execute_result"
    },
    {
     "data": {
      "image/png": "[encoded data removed]",
      "text/plain": [
       "<Figure size 640x480 with 1 Axes>"
      ]
     },
     "metadata": {},
     "output_type": "display_data"
    }
   ],
   "source": [
    "plt.plot(Tp, accuracies,'b--')\n",
    "plt.ylabel('Accuracy')\n",
    "plt.xlabel('Temp')"
   ]
  }
 ],
 "metadata": {
  "kernelspec": {
   "display_name": "Python 3 (ipykernel)",
   "language": "python",
   "name": "python3"
  },
  "language_info": {
   "codemirror_mode": {
    "name": "ipython",
    "version": 3
   },
   "file_extension": ".py",
   "mimetype": "text/x-python",
   "name": "python",
   "nbconvert_exporter": "python",
   "pygments_lexer": "ipython3",
   "version": "3.9.15"
  }
 },
 "nbformat": 4,
 "nbformat_minor": 5
}
