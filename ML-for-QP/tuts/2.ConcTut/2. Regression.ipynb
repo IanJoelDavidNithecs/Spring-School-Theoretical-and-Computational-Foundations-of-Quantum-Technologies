{
 "cells": [
  {
   "cell_type": "markdown",
   "id": "c9aec779",
   "metadata": {
    "id": "c9aec779"
   },
   "source": [
    "# Regression Models for Concurrence "
   ]
  },
  {
   "cell_type": "code",
   "execution_count": 1,
   "id": "VezY77x-Rosz",
   "metadata": {
    "colab": {
     "base_uri": "https://localhost:8080/"
    },
    "executionInfo": {
     "elapsed": 25257,
     "status": "ok",
     "timestamp": 1669191800422,
     "user": {
      "displayName": "Shivani Pillay",
      "userId": "04715400937082294154"
     },
     "user_tz": -120
    },
    "id": "VezY77x-Rosz",
    "outputId": "e2002ff5-0484-4512-c4af-7d0cdba60cb3"
   },
   "outputs": [],
   "source": [
    "#from google.colab import drive\n",
    "#drive.mount('/content/drive')"
   ]
  },
  {
   "cell_type": "code",
   "execution_count": 2,
   "id": "norwegian-toddler",
   "metadata": {
    "executionInfo": {
     "elapsed": 4379,
     "status": "ok",
     "timestamp": 1669191811753,
     "user": {
      "displayName": "Shivani Pillay",
      "userId": "04715400937082294154"
     },
     "user_tz": -120
    },
    "id": "norwegian-toddler"
   },
   "outputs": [
    {
     "name": "stderr",
     "output_type": "stream",
     "text": [
      "2023-10-25 08:13:01.331004: I tensorflow/core/platform/cpu_feature_guard.cc:182] This TensorFlow binary is optimized to use available CPU instructions in performance-critical operations.\n",
      "To enable the following instructions: AVX2 FMA, in other operations, rebuild TensorFlow with the appropriate compiler flags.\n"
     ]
    }
   ],
   "source": [
    "import pandas as pd\n",
    "import numpy as np\n",
    "import matplotlib.pyplot as plt\n",
    "\n",
    "from sklearn.model_selection import train_test_split\n",
    "from sklearn import linear_model\n",
    "from sklearn.metrics import mean_squared_error, r2_score\n",
    "from sklearn.svm import SVR\n",
    "from sklearn.ensemble import RandomForestRegressor\n",
    "\n",
    "import tensorflow as tf\n",
    "from tensorflow.keras.layers import Dense, Activation\n",
    "from tensorflow.keras.models import Sequential\n",
    "from tensorflow.keras.layers import BatchNormalization, Dropout\n"
   ]
  },
  {
   "cell_type": "markdown",
   "id": "31d26450",
   "metadata": {
    "id": "31d26450"
   },
   "source": [
    "## Load and Split the Dataset"
   ]
  },
  {
   "cell_type": "code",
   "execution_count": 3,
   "id": "atmospheric-google",
   "metadata": {
    "executionInfo": {
     "elapsed": 1632,
     "status": "ok",
     "timestamp": 1669191831955,
     "user": {
      "displayName": "Shivani Pillay",
      "userId": "04715400937082294154"
     },
     "user_tz": -120
    },
    "id": "atmospheric-google"
   },
   "outputs": [],
   "source": [
    "#df = pd.read_csv('drive/MyDrive/Colab Notebooks/ConcTut/data/states_reg.csv')\n",
    "df = pd.read_csv('data/states_reg.csv')"
   ]
  },
  {
   "cell_type": "code",
   "execution_count": 4,
   "id": "aggressive-alberta",
   "metadata": {
    "colab": {
     "base_uri": "https://localhost:8080/",
     "height": 204
    },
    "executionInfo": {
     "elapsed": 20,
     "status": "ok",
     "timestamp": 1669191831956,
     "user": {
      "displayName": "Shivani Pillay",
      "userId": "04715400937082294154"
     },
     "user_tz": -120
    },
    "id": "aggressive-alberta",
    "outputId": "d24ff5f5-b28a-402e-d4c3-366527e341f3"
   },
   "outputs": [
    {
     "data": {
      "text/html": [
       "<div>\n",
       "<style scoped>\n",
       "    .dataframe tbody tr th:only-of-type {\n",
       "        vertical-align: middle;\n",
       "    }\n",
       "\n",
       "    .dataframe tbody tr th {\n",
       "        vertical-align: top;\n",
       "    }\n",
       "\n",
       "    .dataframe thead th {\n",
       "        text-align: right;\n",
       "    }\n",
       "</style>\n",
       "<table border=\"1\" class=\"dataframe\">\n",
       "  <thead>\n",
       "    <tr style=\"text-align: right;\">\n",
       "      <th></th>\n",
       "      <th>a1</th>\n",
       "      <th>a2</th>\n",
       "      <th>b1</th>\n",
       "      <th>b2</th>\n",
       "      <th>c1</th>\n",
       "      <th>c2</th>\n",
       "      <th>d1</th>\n",
       "      <th>d2</th>\n",
       "      <th>conc</th>\n",
       "    </tr>\n",
       "  </thead>\n",
       "  <tbody>\n",
       "    <tr>\n",
       "      <th>0</th>\n",
       "      <td>-0.724972</td>\n",
       "      <td>0.320269</td>\n",
       "      <td>-0.135307</td>\n",
       "      <td>0.082984</td>\n",
       "      <td>0.186696</td>\n",
       "      <td>0.424440</td>\n",
       "      <td>-0.040416</td>\n",
       "      <td>0.360571</td>\n",
       "      <td>0.467654</td>\n",
       "    </tr>\n",
       "    <tr>\n",
       "      <th>1</th>\n",
       "      <td>-0.280007</td>\n",
       "      <td>0.143554</td>\n",
       "      <td>-0.229086</td>\n",
       "      <td>-0.553389</td>\n",
       "      <td>0.181314</td>\n",
       "      <td>0.327491</td>\n",
       "      <td>-0.317852</td>\n",
       "      <td>-0.548738</td>\n",
       "      <td>0.569541</td>\n",
       "    </tr>\n",
       "    <tr>\n",
       "      <th>2</th>\n",
       "      <td>0.064944</td>\n",
       "      <td>0.086093</td>\n",
       "      <td>-0.778567</td>\n",
       "      <td>-0.227820</td>\n",
       "      <td>-0.015465</td>\n",
       "      <td>-0.442691</td>\n",
       "      <td>-0.220054</td>\n",
       "      <td>0.292684</td>\n",
       "      <td>0.703203</td>\n",
       "    </tr>\n",
       "    <tr>\n",
       "      <th>3</th>\n",
       "      <td>0.535995</td>\n",
       "      <td>0.391060</td>\n",
       "      <td>-0.088476</td>\n",
       "      <td>-0.657346</td>\n",
       "      <td>0.215823</td>\n",
       "      <td>-0.018545</td>\n",
       "      <td>-0.251141</td>\n",
       "      <td>0.099268</td>\n",
       "      <td>0.342187</td>\n",
       "    </tr>\n",
       "    <tr>\n",
       "      <th>4</th>\n",
       "      <td>-0.089208</td>\n",
       "      <td>-0.037614</td>\n",
       "      <td>0.039009</td>\n",
       "      <td>0.440877</td>\n",
       "      <td>0.398912</td>\n",
       "      <td>-0.570540</td>\n",
       "      <td>-0.043359</td>\n",
       "      <td>-0.555163</td>\n",
       "      <td>0.604046</td>\n",
       "    </tr>\n",
       "  </tbody>\n",
       "</table>\n",
       "</div>"
      ],
      "text/plain": [
       "         a1        a2        b1        b2        c1        c2        d1  \\\n",
       "0 -0.724972  0.320269 -0.135307  0.082984  0.186696  0.424440 -0.040416   \n",
       "1 -0.280007  0.143554 -0.229086 -0.553389  0.181314  0.327491 -0.317852   \n",
       "2  0.064944  0.086093 -0.778567 -0.227820 -0.015465 -0.442691 -0.220054   \n",
       "3  0.535995  0.391060 -0.088476 -0.657346  0.215823 -0.018545 -0.251141   \n",
       "4 -0.089208 -0.037614  0.039009  0.440877  0.398912 -0.570540 -0.043359   \n",
       "\n",
       "         d2      conc  \n",
       "0  0.360571  0.467654  \n",
       "1 -0.548738  0.569541  \n",
       "2  0.292684  0.703203  \n",
       "3  0.099268  0.342187  \n",
       "4 -0.555163  0.604046  "
      ]
     },
     "execution_count": 4,
     "metadata": {},
     "output_type": "execute_result"
    }
   ],
   "source": [
    "df.head()"
   ]
  },
  {
   "cell_type": "code",
   "execution_count": 5,
   "id": "developing-lotus",
   "metadata": {
    "colab": {
     "base_uri": "https://localhost:8080/"
    },
    "executionInfo": {
     "elapsed": 17,
     "status": "ok",
     "timestamp": 1669191831956,
     "user": {
      "displayName": "Shivani Pillay",
      "userId": "04715400937082294154"
     },
     "user_tz": -120
    },
    "id": "developing-lotus",
    "outputId": "1d3bb64b-48e1-4006-dd34-166fe9da57d4"
   },
   "outputs": [
    {
     "name": "stdout",
     "output_type": "stream",
     "text": [
      "There are 2000 points in total.\n"
     ]
    }
   ],
   "source": [
    "X = df.iloc[:,0:8].values\n",
    "y = df['conc'].values\n",
    "\n",
    "print(\"There are\",X.shape[0],\"points in total.\")"
   ]
  },
  {
   "cell_type": "code",
   "execution_count": 6,
   "id": "fifteen-mistake",
   "metadata": {
    "executionInfo": {
     "elapsed": 13,
     "status": "ok",
     "timestamp": 1669191831957,
     "user": {
      "displayName": "Shivani Pillay",
      "userId": "04715400937082294154"
     },
     "user_tz": -120
    },
    "id": "fifteen-mistake"
   },
   "outputs": [],
   "source": [
    "# split the dataset into a training and test dataset\n",
    "X_train, X_test, y_train, y_test = train_test_split(X, y, test_size=0.2, random_state=42)"
   ]
  },
  {
   "cell_type": "code",
   "execution_count": 7,
   "id": "compressed-fiber",
   "metadata": {
    "colab": {
     "base_uri": "https://localhost:8080/"
    },
    "executionInfo": {
     "elapsed": 12,
     "status": "ok",
     "timestamp": 1669191831957,
     "user": {
      "displayName": "Shivani Pillay",
      "userId": "04715400937082294154"
     },
     "user_tz": -120
    },
    "id": "compressed-fiber",
    "outputId": "730475ff-7435-4aa4-f49a-450a5f49fbc6"
   },
   "outputs": [
    {
     "name": "stdout",
     "output_type": "stream",
     "text": [
      "There are 1600 training points with 8 features each.\n",
      "There are 400 training points with 8 features each.\n"
     ]
    }
   ],
   "source": [
    "print(\"There are\",X_train.shape[0],\"training points with\",X.shape[1],\"features each.\")\n",
    "print(\"There are\",X_test.shape[0],\"training points with\",X.shape[1],\"features each.\")\n"
   ]
  },
  {
   "cell_type": "markdown",
   "id": "ab7a1907",
   "metadata": {
    "id": "ab7a1907"
   },
   "source": [
    "## Functions to Evaluate our Model"
   ]
  },
  {
   "cell_type": "code",
   "execution_count": 8,
   "id": "645ccc26",
   "metadata": {
    "executionInfo": {
     "elapsed": 763,
     "status": "ok",
     "timestamp": 1669153303414,
     "user": {
      "displayName": "Shivani Pillay",
      "userId": "04715400937082294154"
     },
     "user_tz": -120
    },
    "id": "645ccc26"
   },
   "outputs": [],
   "source": [
    "# plot the predicted concurrence vs real concurrence\n",
    "def plot_predictions(y_pred):\n",
    "    plt.figure(figsize=(9,9))\n",
    "    plt.rcParams.update({'font.size': 24})\n",
    "    plt.scatter(y_test, y_pred, s=150, marker='o', color='g')\n",
    "    plt.plot(np.linspace(0,1,100), np.linspace(0,1,100), color='blue', linewidth=2)\n",
    "    plt.xlabel('Real Concurrence')\n",
    "    plt.ylabel('Predicted Concurrence')\n",
    "    plt.show()"
   ]
  },
  {
   "cell_type": "code",
   "execution_count": 9,
   "id": "fbeda7ac",
   "metadata": {
    "executionInfo": {
     "elapsed": 5,
     "status": "ok",
     "timestamp": 1669153304256,
     "user": {
      "displayName": "Shivani Pillay",
      "userId": "04715400937082294154"
     },
     "user_tz": -120
    },
    "id": "fbeda7ac"
   },
   "outputs": [],
   "source": [
    "# calculate metrics to evaluate the regression model \n",
    "def evaluate_model(y_pred):\n",
    "    absolute_err = abs(y_pred - y_test)\n",
    "    mean_absolute_err = np.mean(absolute_err)\n",
    "    mean_absolute_percentage_err = 100 * (absolute_err / y_test)\n",
    "    accuracy = 100 - np.mean(mean_absolute_percentage_err)\n",
    "    mean_squared_err = mean_squared_error(y_test, y_pred)\n",
    "    variance_score = r2_score(y_test, y_pred)\n",
    "\n",
    "    measures = {'Mean Absolute Error:':np.round(mean_absolute_err,4), \"Accuracy:\":np.round(accuracy,4), \n",
    "                \"Mean Squared Error:\":np.round(mean_squared_err,4),\"Variance Score:\":np.round(variance_score,4)}\n",
    "\n",
    "    for i in measures:\n",
    "        print(i,measures[i])\n"
   ]
  },
  {
   "cell_type": "markdown",
   "id": "f39f9ec2",
   "metadata": {
    "id": "f39f9ec2"
   },
   "source": [
    "## Prediction with Linear Regression Model"
   ]
  },
  {
   "cell_type": "code",
   "execution_count": 10,
   "id": "matched-marijuana",
   "metadata": {
    "colab": {
     "base_uri": "https://localhost:8080/"
    },
    "executionInfo": {
     "elapsed": 5,
     "status": "ok",
     "timestamp": 1669153304257,
     "user": {
      "displayName": "Shivani Pillay",
      "userId": "04715400937082294154"
     },
     "user_tz": -120
    },
    "id": "matched-marijuana",
    "outputId": "f77a7cc4-b524-421b-8940-3be6aaf92994"
   },
   "outputs": [
    {
     "data": {
      "text/html": [
       "<style>#sk-container-id-1 {color: black;background-color: white;}#sk-container-id-1 pre{padding: 0;}#sk-container-id-1 div.sk-toggleable {background-color: white;}#sk-container-id-1 label.sk-toggleable__label {cursor: pointer;display: block;width: 100%;margin-bottom: 0;padding: 0.3em;box-sizing: border-box;text-align: center;}#sk-container-id-1 label.sk-toggleable__label-arrow:before {content: \"▸\";float: left;margin-right: 0.25em;color: #696969;}#sk-container-id-1 label.sk-toggleable__label-arrow:hover:before {color: black;}#sk-container-id-1 div.sk-estimator:hover label.sk-toggleable__label-arrow:before {color: black;}#sk-container-id-1 div.sk-toggleable__content {max-height: 0;max-width: 0;overflow: hidden;text-align: left;background-color: #f0f8ff;}#sk-container-id-1 div.sk-toggleable__content pre {margin: 0.2em;color: black;border-radius: 0.25em;background-color: #f0f8ff;}#sk-container-id-1 input.sk-toggleable__control:checked~div.sk-toggleable__content {max-height: 200px;max-width: 100%;overflow: auto;}#sk-container-id-1 input.sk-toggleable__control:checked~label.sk-toggleable__label-arrow:before {content: \"▾\";}#sk-container-id-1 div.sk-estimator input.sk-toggleable__control:checked~label.sk-toggleable__label {background-color: #d4ebff;}#sk-container-id-1 div.sk-label input.sk-toggleable__control:checked~label.sk-toggleable__label {background-color: #d4ebff;}#sk-container-id-1 input.sk-hidden--visually {border: 0;clip: rect(1px 1px 1px 1px);clip: rect(1px, 1px, 1px, 1px);height: 1px;margin: -1px;overflow: hidden;padding: 0;position: absolute;width: 1px;}#sk-container-id-1 div.sk-estimator {font-family: monospace;background-color: #f0f8ff;border: 1px dotted black;border-radius: 0.25em;box-sizing: border-box;margin-bottom: 0.5em;}#sk-container-id-1 div.sk-estimator:hover {background-color: #d4ebff;}#sk-container-id-1 div.sk-parallel-item::after {content: \"\";width: 100%;border-bottom: 1px solid gray;flex-grow: 1;}#sk-container-id-1 div.sk-label:hover label.sk-toggleable__label {background-color: #d4ebff;}#sk-container-id-1 div.sk-serial::before {content: \"\";position: absolute;border-left: 1px solid gray;box-sizing: border-box;top: 0;bottom: 0;left: 50%;z-index: 0;}#sk-container-id-1 div.sk-serial {display: flex;flex-direction: column;align-items: center;background-color: white;padding-right: 0.2em;padding-left: 0.2em;position: relative;}#sk-container-id-1 div.sk-item {position: relative;z-index: 1;}#sk-container-id-1 div.sk-parallel {display: flex;align-items: stretch;justify-content: center;background-color: white;position: relative;}#sk-container-id-1 div.sk-item::before, #sk-container-id-1 div.sk-parallel-item::before {content: \"\";position: absolute;border-left: 1px solid gray;box-sizing: border-box;top: 0;bottom: 0;left: 50%;z-index: -1;}#sk-container-id-1 div.sk-parallel-item {display: flex;flex-direction: column;z-index: 1;position: relative;background-color: white;}#sk-container-id-1 div.sk-parallel-item:first-child::after {align-self: flex-end;width: 50%;}#sk-container-id-1 div.sk-parallel-item:last-child::after {align-self: flex-start;width: 50%;}#sk-container-id-1 div.sk-parallel-item:only-child::after {width: 0;}#sk-container-id-1 div.sk-dashed-wrapped {border: 1px dashed gray;margin: 0 0.4em 0.5em 0.4em;box-sizing: border-box;padding-bottom: 0.4em;background-color: white;}#sk-container-id-1 div.sk-label label {font-family: monospace;font-weight: bold;display: inline-block;line-height: 1.2em;}#sk-container-id-1 div.sk-label-container {text-align: center;}#sk-container-id-1 div.sk-container {/* jupyter's `normalize.less` sets `[hidden] { display: none; }` but bootstrap.min.css set `[hidden] { display: none !important; }` so we also need the `!important` here to be able to override the default hidden behavior on the sphinx rendered scikit-learn.org. See: https://github.com/scikit-learn/scikit-learn/issues/21755 */display: inline-block !important;position: relative;}#sk-container-id-1 div.sk-text-repr-fallback {display: none;}</style><div id=\"sk-container-id-1\" class=\"sk-top-container\"><div class=\"sk-text-repr-fallback\"><pre>LinearRegression()</pre><b>In a Jupyter environment, please rerun this cell to show the HTML representation or trust the notebook. <br />On GitHub, the HTML representation is unable to render, please try loading this page with nbviewer.org.</b></div><div class=\"sk-container\" hidden><div class=\"sk-item\"><div class=\"sk-estimator sk-toggleable\"><input class=\"sk-toggleable__control sk-hidden--visually\" id=\"sk-estimator-id-1\" type=\"checkbox\" checked><label for=\"sk-estimator-id-1\" class=\"sk-toggleable__label sk-toggleable__label-arrow\">LinearRegression</label><div class=\"sk-toggleable__content\"><pre>LinearRegression()</pre></div></div></div></div></div>"
      ],
      "text/plain": [
       "LinearRegression()"
      ]
     },
     "execution_count": 10,
     "metadata": {},
     "output_type": "execute_result"
    }
   ],
   "source": [
    "# create linear regression object\n",
    "regr = linear_model.LinearRegression()\n",
    "\n",
    "# train the model using the training set\n",
    "regr.fit(X_train, y_train)"
   ]
  },
  {
   "cell_type": "code",
   "execution_count": 11,
   "id": "responsible-broadcast",
   "metadata": {
    "executionInfo": {
     "elapsed": 4,
     "status": "ok",
     "timestamp": 1669153304738,
     "user": {
      "displayName": "Shivani Pillay",
      "userId": "04715400937082294154"
     },
     "user_tz": -120
    },
    "id": "responsible-broadcast"
   },
   "outputs": [],
   "source": [
    "# perform predictions on the test set \n",
    "y_pred = regr.predict(X_test)"
   ]
  },
  {
   "cell_type": "code",
   "execution_count": 12,
   "id": "dfe1f1c4",
   "metadata": {
    "colab": {
     "base_uri": "https://localhost:8080/",
     "height": 579
    },
    "executionInfo": {
     "elapsed": 1179,
     "status": "ok",
     "timestamp": 1669153308102,
     "user": {
      "displayName": "Shivani Pillay",
      "userId": "04715400937082294154"
     },
     "user_tz": -120
    },
    "id": "dfe1f1c4",
    "outputId": "50863023-7c00-4802-de3d-e283f2e82367"
   },
   "outputs": [
    {
     "data": {
      "image/png": "[encoded data removed]",
      "text/plain": [
       "<Figure size 900x900 with 1 Axes>"
      ]
     },
     "metadata": {},
     "output_type": "display_data"
    }
   ],
   "source": [
    "plot_predictions(y_pred)"
   ]
  },
  {
   "cell_type": "markdown",
   "id": "9feed890",
   "metadata": {
    "id": "9feed890"
   },
   "source": [
    "## Prediction with Random Forest "
   ]
  },
  {
   "cell_type": "code",
   "execution_count": 13,
   "id": "generous-ballot",
   "metadata": {
    "colab": {
     "base_uri": "https://localhost:8080/"
    },
    "executionInfo": {
     "elapsed": 16744,
     "status": "ok",
     "timestamp": 1669153330562,
     "user": {
      "displayName": "Shivani Pillay",
      "userId": "04715400937082294154"
     },
     "user_tz": -120
    },
    "id": "generous-ballot",
    "outputId": "e93e3b0e-839c-45a3-b8fb-835d5ac48cae"
   },
   "outputs": [
    {
     "data": {
      "text/html": [
       "<style>#sk-container-id-2 {color: black;background-color: white;}#sk-container-id-2 pre{padding: 0;}#sk-container-id-2 div.sk-toggleable {background-color: white;}#sk-container-id-2 label.sk-toggleable__label {cursor: pointer;display: block;width: 100%;margin-bottom: 0;padding: 0.3em;box-sizing: border-box;text-align: center;}#sk-container-id-2 label.sk-toggleable__label-arrow:before {content: \"▸\";float: left;margin-right: 0.25em;color: #696969;}#sk-container-id-2 label.sk-toggleable__label-arrow:hover:before {color: black;}#sk-container-id-2 div.sk-estimator:hover label.sk-toggleable__label-arrow:before {color: black;}#sk-container-id-2 div.sk-toggleable__content {max-height: 0;max-width: 0;overflow: hidden;text-align: left;background-color: #f0f8ff;}#sk-container-id-2 div.sk-toggleable__content pre {margin: 0.2em;color: black;border-radius: 0.25em;background-color: #f0f8ff;}#sk-container-id-2 input.sk-toggleable__control:checked~div.sk-toggleable__content {max-height: 200px;max-width: 100%;overflow: auto;}#sk-container-id-2 input.sk-toggleable__control:checked~label.sk-toggleable__label-arrow:before {content: \"▾\";}#sk-container-id-2 div.sk-estimator input.sk-toggleable__control:checked~label.sk-toggleable__label {background-color: #d4ebff;}#sk-container-id-2 div.sk-label input.sk-toggleable__control:checked~label.sk-toggleable__label {background-color: #d4ebff;}#sk-container-id-2 input.sk-hidden--visually {border: 0;clip: rect(1px 1px 1px 1px);clip: rect(1px, 1px, 1px, 1px);height: 1px;margin: -1px;overflow: hidden;padding: 0;position: absolute;width: 1px;}#sk-container-id-2 div.sk-estimator {font-family: monospace;background-color: #f0f8ff;border: 1px dotted black;border-radius: 0.25em;box-sizing: border-box;margin-bottom: 0.5em;}#sk-container-id-2 div.sk-estimator:hover {background-color: #d4ebff;}#sk-container-id-2 div.sk-parallel-item::after {content: \"\";width: 100%;border-bottom: 1px solid gray;flex-grow: 1;}#sk-container-id-2 div.sk-label:hover label.sk-toggleable__label {background-color: #d4ebff;}#sk-container-id-2 div.sk-serial::before {content: \"\";position: absolute;border-left: 1px solid gray;box-sizing: border-box;top: 0;bottom: 0;left: 50%;z-index: 0;}#sk-container-id-2 div.sk-serial {display: flex;flex-direction: column;align-items: center;background-color: white;padding-right: 0.2em;padding-left: 0.2em;position: relative;}#sk-container-id-2 div.sk-item {position: relative;z-index: 1;}#sk-container-id-2 div.sk-parallel {display: flex;align-items: stretch;justify-content: center;background-color: white;position: relative;}#sk-container-id-2 div.sk-item::before, #sk-container-id-2 div.sk-parallel-item::before {content: \"\";position: absolute;border-left: 1px solid gray;box-sizing: border-box;top: 0;bottom: 0;left: 50%;z-index: -1;}#sk-container-id-2 div.sk-parallel-item {display: flex;flex-direction: column;z-index: 1;position: relative;background-color: white;}#sk-container-id-2 div.sk-parallel-item:first-child::after {align-self: flex-end;width: 50%;}#sk-container-id-2 div.sk-parallel-item:last-child::after {align-self: flex-start;width: 50%;}#sk-container-id-2 div.sk-parallel-item:only-child::after {width: 0;}#sk-container-id-2 div.sk-dashed-wrapped {border: 1px dashed gray;margin: 0 0.4em 0.5em 0.4em;box-sizing: border-box;padding-bottom: 0.4em;background-color: white;}#sk-container-id-2 div.sk-label label {font-family: monospace;font-weight: bold;display: inline-block;line-height: 1.2em;}#sk-container-id-2 div.sk-label-container {text-align: center;}#sk-container-id-2 div.sk-container {/* jupyter's `normalize.less` sets `[hidden] { display: none; }` but bootstrap.min.css set `[hidden] { display: none !important; }` so we also need the `!important` here to be able to override the default hidden behavior on the sphinx rendered scikit-learn.org. See: https://github.com/scikit-learn/scikit-learn/issues/21755 */display: inline-block !important;position: relative;}#sk-container-id-2 div.sk-text-repr-fallback {display: none;}</style><div id=\"sk-container-id-2\" class=\"sk-top-container\"><div class=\"sk-text-repr-fallback\"><pre>RandomForestRegressor(n_estimators=1000, random_state=42)</pre><b>In a Jupyter environment, please rerun this cell to show the HTML representation or trust the notebook. <br />On GitHub, the HTML representation is unable to render, please try loading this page with nbviewer.org.</b></div><div class=\"sk-container\" hidden><div class=\"sk-item\"><div class=\"sk-estimator sk-toggleable\"><input class=\"sk-toggleable__control sk-hidden--visually\" id=\"sk-estimator-id-2\" type=\"checkbox\" checked><label for=\"sk-estimator-id-2\" class=\"sk-toggleable__label sk-toggleable__label-arrow\">RandomForestRegressor</label><div class=\"sk-toggleable__content\"><pre>RandomForestRegressor(n_estimators=1000, random_state=42)</pre></div></div></div></div></div>"
      ],
      "text/plain": [
       "RandomForestRegressor(n_estimators=1000, random_state=42)"
      ]
     },
     "execution_count": 13,
     "metadata": {},
     "output_type": "execute_result"
    }
   ],
   "source": [
    "# Instantiate model with 1000 decision trees\n",
    "rf = RandomForestRegressor(n_estimators = 1000, random_state = 42)\n",
    "\n",
    "# Train the model on training data\n",
    "rf.fit(X_train, y_train)"
   ]
  },
  {
   "cell_type": "code",
   "execution_count": 14,
   "id": "qualified-biodiversity",
   "metadata": {
    "executionInfo": {
     "elapsed": 14,
     "status": "ok",
     "timestamp": 1669153330563,
     "user": {
      "displayName": "Shivani Pillay",
      "userId": "04715400937082294154"
     },
     "user_tz": -120
    },
    "id": "qualified-biodiversity"
   },
   "outputs": [],
   "source": [
    "# Use the forest's predict method on the test data\n",
    "predictions = rf.predict(X_test)"
   ]
  },
  {
   "cell_type": "code",
   "execution_count": 15,
   "id": "19441028",
   "metadata": {
    "colab": {
     "base_uri": "https://localhost:8080/",
     "height": 579
    },
    "executionInfo": {
     "elapsed": 13,
     "status": "ok",
     "timestamp": 1669153330563,
     "user": {
      "displayName": "Shivani Pillay",
      "userId": "04715400937082294154"
     },
     "user_tz": -120
    },
    "id": "19441028",
    "outputId": "8f895025-63ab-4fe9-f6e2-4815d55d699c"
   },
   "outputs": [
    {
     "data": {
      "image/png": "[encoded data removed]",
      "text/plain": [
       "<Figure size 900x900 with 1 Axes>"
      ]
     },
     "metadata": {},
     "output_type": "display_data"
    }
   ],
   "source": [
    "plot_predictions(y_pred)"
   ]
  },
  {
   "cell_type": "code",
   "execution_count": 16,
   "id": "fa1041f5",
   "metadata": {
    "colab": {
     "base_uri": "https://localhost:8080/"
    },
    "executionInfo": {
     "elapsed": 12,
     "status": "ok",
     "timestamp": 1669153330564,
     "user": {
      "displayName": "Shivani Pillay",
      "userId": "04715400937082294154"
     },
     "user_tz": -120
    },
    "id": "fa1041f5",
    "outputId": "3b674a38-d47b-4f4c-b1d3-1c71a15ffd14"
   },
   "outputs": [
    {
     "name": "stdout",
     "output_type": "stream",
     "text": [
      "Mean Absolute Error: 0.1964\n",
      "Accuracy: 34.6629\n",
      "Mean Squared Error: 0.0542\n",
      "Variance Score: 0.0032\n"
     ]
    }
   ],
   "source": [
    "evaluate_model(y_pred)"
   ]
  },
  {
   "cell_type": "markdown",
   "id": "dd6b10f2",
   "metadata": {
    "id": "dd6b10f2"
   },
   "source": [
    "## Prediction with Support Vector Regression"
   ]
  },
  {
   "cell_type": "markdown",
   "id": "6c2c0e48",
   "metadata": {
    "id": "6c2c0e48"
   },
   "source": [
    "### Support Vector Regression with RBF Kernel"
   ]
  },
  {
   "cell_type": "code",
   "execution_count": 17,
   "id": "8f52165c",
   "metadata": {
    "executionInfo": {
     "elapsed": 5018,
     "status": "ok",
     "timestamp": 1669153335576,
     "user": {
      "displayName": "Shivani Pillay",
      "userId": "04715400937082294154"
     },
     "user_tz": -120
    },
    "id": "8f52165c"
   },
   "outputs": [],
   "source": [
    "svr_rbf = SVR(kernel='rbf', C=1e3, gamma=0.1)\n",
    "y_pred_rbf = svr_rbf.fit(X_train, y_train).predict(X_test)"
   ]
  },
  {
   "cell_type": "code",
   "execution_count": 18,
   "id": "58c94333",
   "metadata": {
    "executionInfo": {
     "elapsed": 14684,
     "status": "ok",
     "timestamp": 1669153350256,
     "user": {
      "displayName": "Shivani Pillay",
      "userId": "04715400937082294154"
     },
     "user_tz": -120
    },
    "id": "58c94333"
   },
   "outputs": [],
   "source": [
    "svr_lin = SVR(kernel='linear', C=1e3)\n",
    "y_pred_lin = svr_lin.fit(X_train, y_train).predict(X_test)"
   ]
  },
  {
   "cell_type": "code",
   "execution_count": 19,
   "id": "e93c1877",
   "metadata": {
    "executionInfo": {
     "elapsed": 66354,
     "status": "ok",
     "timestamp": 1669153583753,
     "user": {
      "displayName": "Shivani Pillay",
      "userId": "04715400937082294154"
     },
     "user_tz": -120
    },
    "id": "e93c1877"
   },
   "outputs": [],
   "source": [
    "svr_poly = SVR(kernel='poly', C=1e3, degree=3)\n",
    "y_pred_poly = svr_poly.fit(X_train, y_train).predict(X_test)"
   ]
  },
  {
   "cell_type": "code",
   "execution_count": 20,
   "id": "intended-distance",
   "metadata": {
    "colab": {
     "base_uri": "https://localhost:8080/",
     "height": 607
    },
    "executionInfo": {
     "elapsed": 10,
     "status": "ok",
     "timestamp": 1669153583754,
     "user": {
      "displayName": "Shivani Pillay",
      "userId": "04715400937082294154"
     },
     "user_tz": -120
    },
    "id": "intended-distance",
    "outputId": "c7cc9029-2f92-4145-dc63-87dc360f2355"
   },
   "outputs": [
    {
     "data": {
      "image/png": "[encoded data removed]",
      "text/plain": [
       "<Figure size 900x900 with 1 Axes>"
      ]
     },
     "metadata": {},
     "output_type": "display_data"
    }
   ],
   "source": [
    "# Look at the results\n",
    "#s=150, marker='o', color='g'\n",
    "lw = 2\n",
    "plt.figure(figsize=(9,9))\n",
    "plt.rcParams.update({'font.size': 24})\n",
    "plt.scatter(y_test, y_pred_rbf, lw=lw, label='RBF model',s=150, marker='o', color='g')\n",
    "plt.scatter(y_test, y_pred_lin, lw=lw, label='Linear model',s=150, marker='^', color='b')\n",
    "plt.scatter(y_test, y_pred_poly, lw=lw, label='Polynomial model',s=150, marker='<', color='r')\n",
    "plt.plot(np.linspace(0,1,100), np.linspace(0,1,100), color='blue', linewidth=2)\n",
    "plt.xlabel('Concurrence, Real Value')\n",
    "plt.ylabel('Concurrence , Predicted Value')\n",
    "plt.title('Support Vector Regression')\n",
    "plt.legend()\n",
    "plt.show()"
   ]
  },
  {
   "cell_type": "markdown",
   "id": "684c60e1",
   "metadata": {
    "id": "684c60e1"
   },
   "source": [
    "## Prediction with Neural Networks"
   ]
  },
  {
   "cell_type": "markdown",
   "id": "005b309f",
   "metadata": {
    "id": "005b309f"
   },
   "source": [
    "### Neural Network 1: 3 layers, using Mean Squared Error Loss Function"
   ]
  },
  {
   "cell_type": "code",
   "execution_count": 21,
   "id": "accepted-saudi",
   "metadata": {
    "executionInfo": {
     "elapsed": 4,
     "status": "ok",
     "timestamp": 1669191837002,
     "user": {
      "displayName": "Shivani Pillay",
      "userId": "04715400937082294154"
     },
     "user_tz": -120
    },
    "id": "accepted-saudi"
   },
   "outputs": [],
   "source": [
    "# Initialising the ANN\n",
    "model = Sequential()\n",
    "\n",
    "# Adding the input layer and the first hidden layer\n",
    "model.add(Dense(16, activation = 'relu', input_dim = 8))\n",
    "\n",
    "# Adding the second hidden layer\n",
    "model.add(Dense(units = 8, activation = 'relu'))\n",
    "\n",
    "# Adding the output layer\n",
    "\n",
    "model.add(Dense(units = 1))\n",
    "\n",
    "# Compiling the ANN\n",
    "model.compile(optimizer = 'adam', loss = 'mean_squared_error')"
   ]
  },
  {
   "cell_type": "code",
   "execution_count": 22,
   "id": "spatial-jesus",
   "metadata": {
    "id": "spatial-jesus"
   },
   "outputs": [
    {
     "name": "stdout",
     "output_type": "stream",
     "text": [
      "Epoch 1/20\n",
      "160/160 [==============================] - 1s 992us/step - loss: 0.1246\n",
      "Epoch 2/20\n",
      "160/160 [==============================] - 0s 912us/step - loss: 0.0599\n",
      "Epoch 3/20\n",
      "160/160 [==============================] - 0s 864us/step - loss: 0.0547\n",
      "Epoch 4/20\n",
      "160/160 [==============================] - 0s 840us/step - loss: 0.0520\n",
      "Epoch 5/20\n",
      "160/160 [==============================] - 0s 893us/step - loss: 0.0506\n",
      "Epoch 6/20\n",
      "160/160 [==============================] - 0s 839us/step - loss: 0.0493\n",
      "Epoch 7/20\n",
      "160/160 [==============================] - 0s 859us/step - loss: 0.0488\n",
      "Epoch 8/20\n",
      "160/160 [==============================] - 0s 885us/step - loss: 0.0481\n",
      "Epoch 9/20\n",
      "160/160 [==============================] - 0s 866us/step - loss: 0.0478\n",
      "Epoch 10/20\n",
      "160/160 [==============================] - 0s 877us/step - loss: 0.0473\n",
      "Epoch 11/20\n",
      "160/160 [==============================] - 0s 837us/step - loss: 0.0471\n",
      "Epoch 12/20\n",
      "160/160 [==============================] - 0s 878us/step - loss: 0.0467\n",
      "Epoch 13/20\n",
      "160/160 [==============================] - 0s 842us/step - loss: 0.0460\n",
      "Epoch 14/20\n",
      "160/160 [==============================] - 0s 860us/step - loss: 0.0458\n",
      "Epoch 15/20\n",
      "160/160 [==============================] - 0s 836us/step - loss: 0.0453\n",
      "Epoch 16/20\n",
      "160/160 [==============================] - 0s 867us/step - loss: 0.0452\n",
      "Epoch 17/20\n",
      "160/160 [==============================] - 0s 849us/step - loss: 0.0450\n",
      "Epoch 18/20\n",
      "160/160 [==============================] - 0s 832us/step - loss: 0.0445\n",
      "Epoch 19/20\n",
      "160/160 [==============================] - 0s 869us/step - loss: 0.0444\n",
      "Epoch 20/20\n",
      "160/160 [==============================] - 0s 862us/step - loss: 0.0442\n"
     ]
    },
    {
     "data": {
      "text/plain": [
       "<keras.src.callbacks.History at 0x7fba1cbb3fd0>"
      ]
     },
     "execution_count": 22,
     "metadata": {},
     "output_type": "execute_result"
    }
   ],
   "source": [
    "# Fitting the ANN to the Training set\n",
    "# Perform backpropagation algorithm in groups of 10\n",
    "# Batch size = Number of samples used to train the network at a time\n",
    "# Epoch = Number of times you go through the sample \n",
    "model.fit(X_train, y_train, batch_size = 10, epochs = 20)"
   ]
  },
  {
   "cell_type": "code",
   "execution_count": 23,
   "id": "5d812a14",
   "metadata": {
    "colab": {
     "base_uri": "https://localhost:8080/"
    },
    "executionInfo": {
     "elapsed": 17,
     "status": "ok",
     "timestamp": 1669154503405,
     "user": {
      "displayName": "Shivani Pillay",
      "userId": "04715400937082294154"
     },
     "user_tz": -120
    },
    "id": "5d812a14",
    "outputId": "be3e2646-bc67-423a-f82c-2095d7dc6d89"
   },
   "outputs": [
    {
     "name": "stdout",
     "output_type": "stream",
     "text": [
      "Model: \"sequential\"\n",
      "_________________________________________________________________\n",
      " Layer (type)                Output Shape              Param #   \n",
      "=================================================================\n",
      " dense (Dense)               (None, 16)                144       \n",
      "                                                                 \n",
      " dense_1 (Dense)             (None, 8)                 136       \n",
      "                                                                 \n",
      " dense_2 (Dense)             (None, 1)                 9         \n",
      "                                                                 \n",
      "=================================================================\n",
      "Total params: 289 (1.13 KB)\n",
      "Trainable params: 289 (1.13 KB)\n",
      "Non-trainable params: 0 (0.00 Byte)\n",
      "_________________________________________________________________\n"
     ]
    }
   ],
   "source": [
    "model.summary()"
   ]
  },
  {
   "cell_type": "code",
   "execution_count": 24,
   "id": "terminal-setup",
   "metadata": {
    "colab": {
     "base_uri": "https://localhost:8080/"
    },
    "executionInfo": {
     "elapsed": 5,
     "status": "ok",
     "timestamp": 1669192062832,
     "user": {
      "displayName": "Shivani Pillay",
      "userId": "04715400937082294154"
     },
     "user_tz": -120
    },
    "id": "terminal-setup",
    "outputId": "2977538c-39f7-486f-d5d0-a846e3165e56"
   },
   "outputs": [
    {
     "name": "stdout",
     "output_type": "stream",
     "text": [
      "13/13 [==============================] - 0s 900us/step\n"
     ]
    }
   ],
   "source": [
    "y_NN = model.predict(X_test)"
   ]
  },
  {
   "cell_type": "code",
   "execution_count": 25,
   "id": "855c8a33",
   "metadata": {},
   "outputs": [
    {
     "name": "stdout",
     "output_type": "stream",
     "text": [
      "Mean Absolute Error: 0.2017\n",
      "Accuracy: 34.6998\n",
      "Mean Squared Error: 0.0518\n",
      "Variance Score: 0.0466\n"
     ]
    }
   ],
   "source": [
    "evaluate_model(y_NN)"
   ]
  },
  {
   "cell_type": "markdown",
   "id": "35c654de",
   "metadata": {
    "id": "35c654de"
   },
   "source": [
    "### Neural Network 2: 5 Layers, More Nodes in Each Layer"
   ]
  },
  {
   "cell_type": "code",
   "execution_count": 26,
   "id": "composite-nurse",
   "metadata": {
    "executionInfo": {
     "elapsed": 3,
     "status": "ok",
     "timestamp": 1669192065951,
     "user": {
      "displayName": "Shivani Pillay",
      "userId": "04715400937082294154"
     },
     "user_tz": -120
    },
    "id": "composite-nurse"
   },
   "outputs": [],
   "source": [
    "# Initialising the ANN\n",
    "model = Sequential()\n",
    "\n",
    "# Adding the input layer and the first hidden layer\n",
    "model.add(Dense(16, activation = 'relu', input_dim = 8))\n",
    "\n",
    "# Adding the second hidden layer\n",
    "model.add(Dense(units = 20, activation = 'relu'))\n",
    "\n",
    "# Adding the second hidden layer\n",
    "model.add(Dense(units = 20, activation = 'relu'))\n",
    "\n",
    "# Adding the second hidden layer\n",
    "model.add(Dense(units = 8, activation = 'relu'))\n",
    "\n",
    "# Adding the output layer\n",
    "\n",
    "model.add(Dense(units = 1))\n",
    "\n",
    "# Compiling the ANN\n",
    "model.compile(optimizer = 'adam', loss = 'mean_squared_error')"
   ]
  },
  {
   "cell_type": "code",
   "execution_count": 27,
   "id": "amateur-beads",
   "metadata": {
    "id": "amateur-beads"
   },
   "outputs": [
    {
     "name": "stdout",
     "output_type": "stream",
     "text": [
      "Epoch 1/200\n",
      "160/160 [==============================] - 1s 1ms/step - loss: 0.1609\n",
      "Epoch 2/200\n",
      "160/160 [==============================] - 0s 1ms/step - loss: 0.0523\n",
      "Epoch 3/200\n",
      "160/160 [==============================] - 0s 1ms/step - loss: 0.0505\n",
      "Epoch 4/200\n",
      "160/160 [==============================] - 0s 1ms/step - loss: 0.0496\n",
      "Epoch 5/200\n",
      "160/160 [==============================] - 0s 985us/step - loss: 0.0489\n",
      "Epoch 6/200\n",
      "160/160 [==============================] - 0s 973us/step - loss: 0.0482\n",
      "Epoch 7/200\n",
      "160/160 [==============================] - 0s 1ms/step - loss: 0.0474\n",
      "Epoch 8/200\n",
      "160/160 [==============================] - 0s 984us/step - loss: 0.0467\n",
      "Epoch 9/200\n",
      "160/160 [==============================] - 0s 982us/step - loss: 0.0467\n",
      "Epoch 10/200\n",
      "160/160 [==============================] - 0s 978us/step - loss: 0.0454\n",
      "Epoch 11/200\n",
      "160/160 [==============================] - 0s 983us/step - loss: 0.0448\n",
      "Epoch 12/200\n",
      "160/160 [==============================] - 0s 990us/step - loss: 0.0447\n",
      "Epoch 13/200\n",
      "160/160 [==============================] - 0s 985us/step - loss: 0.0435\n",
      "Epoch 14/200\n",
      "160/160 [==============================] - 0s 1ms/step - loss: 0.0429\n",
      "Epoch 15/200\n",
      "160/160 [==============================] - 0s 1ms/step - loss: 0.0420\n",
      "Epoch 16/200\n",
      "160/160 [==============================] - 0s 975us/step - loss: 0.0411\n",
      "Epoch 17/200\n",
      "160/160 [==============================] - 0s 972us/step - loss: 0.0409\n",
      "Epoch 18/200\n",
      "160/160 [==============================] - 0s 1ms/step - loss: 0.0406\n",
      "Epoch 19/200\n",
      "160/160 [==============================] - 0s 993us/step - loss: 0.0396\n",
      "Epoch 20/200\n",
      "160/160 [==============================] - 0s 976us/step - loss: 0.0386\n",
      "Epoch 21/200\n",
      "160/160 [==============================] - 0s 989us/step - loss: 0.0380\n",
      "Epoch 22/200\n",
      "160/160 [==============================] - 0s 967us/step - loss: 0.0373\n",
      "Epoch 23/200\n",
      "160/160 [==============================] - 0s 993us/step - loss: 0.0370\n",
      "Epoch 24/200\n",
      "160/160 [==============================] - 0s 1ms/step - loss: 0.0363\n",
      "Epoch 25/200\n",
      "160/160 [==============================] - 0s 961us/step - loss: 0.0360\n",
      "Epoch 26/200\n",
      "160/160 [==============================] - 0s 978us/step - loss: 0.0353\n",
      "Epoch 27/200\n",
      "160/160 [==============================] - 0s 1ms/step - loss: 0.0348\n",
      "Epoch 28/200\n",
      "160/160 [==============================] - 0s 1ms/step - loss: 0.0346\n",
      "Epoch 29/200\n",
      "160/160 [==============================] - 0s 997us/step - loss: 0.0344\n",
      "Epoch 30/200\n",
      "160/160 [==============================] - 0s 995us/step - loss: 0.0337\n",
      "Epoch 31/200\n",
      "160/160 [==============================] - 0s 984us/step - loss: 0.0335\n",
      "Epoch 32/200\n",
      "160/160 [==============================] - 0s 980us/step - loss: 0.0332\n",
      "Epoch 33/200\n",
      "160/160 [==============================] - 0s 989us/step - loss: 0.0323\n",
      "Epoch 34/200\n",
      "160/160 [==============================] - 0s 988us/step - loss: 0.0324\n",
      "Epoch 35/200\n",
      "160/160 [==============================] - 0s 995us/step - loss: 0.0318\n",
      "Epoch 36/200\n",
      "160/160 [==============================] - 0s 1000us/step - loss: 0.0314\n",
      "Epoch 37/200\n",
      "160/160 [==============================] - 0s 969us/step - loss: 0.0309\n",
      "Epoch 38/200\n",
      "160/160 [==============================] - 0s 965us/step - loss: 0.0312\n",
      "Epoch 39/200\n",
      "160/160 [==============================] - 0s 977us/step - loss: 0.0306\n",
      "Epoch 40/200\n",
      "160/160 [==============================] - 0s 988us/step - loss: 0.0311\n",
      "Epoch 41/200\n",
      "160/160 [==============================] - 0s 1ms/step - loss: 0.0303\n",
      "Epoch 42/200\n",
      "160/160 [==============================] - 0s 964us/step - loss: 0.0299\n",
      "Epoch 43/200\n",
      "160/160 [==============================] - 0s 997us/step - loss: 0.0304\n",
      "Epoch 44/200\n",
      "160/160 [==============================] - 0s 978us/step - loss: 0.0291\n",
      "Epoch 45/200\n",
      "160/160 [==============================] - 0s 982us/step - loss: 0.0288\n",
      "Epoch 46/200\n",
      "160/160 [==============================] - 0s 977us/step - loss: 0.0289\n",
      "Epoch 47/200\n",
      "160/160 [==============================] - 0s 981us/step - loss: 0.0288\n",
      "Epoch 48/200\n",
      "160/160 [==============================] - 0s 978us/step - loss: 0.0291\n",
      "Epoch 49/200\n",
      "160/160 [==============================] - 0s 986us/step - loss: 0.0284\n",
      "Epoch 50/200\n",
      "160/160 [==============================] - 0s 1ms/step - loss: 0.0282\n",
      "Epoch 51/200\n",
      "160/160 [==============================] - 0s 979us/step - loss: 0.0276\n",
      "Epoch 52/200\n",
      "160/160 [==============================] - 0s 999us/step - loss: 0.0277\n",
      "Epoch 53/200\n",
      "160/160 [==============================] - 0s 1ms/step - loss: 0.0276\n",
      "Epoch 54/200\n",
      "160/160 [==============================] - 0s 978us/step - loss: 0.0279\n",
      "Epoch 55/200\n",
      "160/160 [==============================] - 0s 963us/step - loss: 0.0275\n",
      "Epoch 56/200\n",
      "160/160 [==============================] - 0s 1ms/step - loss: 0.0272\n",
      "Epoch 57/200\n",
      "160/160 [==============================] - 0s 988us/step - loss: 0.0266\n",
      "Epoch 58/200\n",
      "160/160 [==============================] - 0s 952us/step - loss: 0.0266\n",
      "Epoch 59/200\n",
      "160/160 [==============================] - 0s 945us/step - loss: 0.0265\n",
      "Epoch 60/200\n",
      "160/160 [==============================] - 0s 998us/step - loss: 0.0261\n",
      "Epoch 61/200\n",
      "160/160 [==============================] - 0s 967us/step - loss: 0.0266\n",
      "Epoch 62/200\n",
      "160/160 [==============================] - 0s 1ms/step - loss: 0.0259\n",
      "Epoch 63/200\n",
      "160/160 [==============================] - 0s 977us/step - loss: 0.0259\n",
      "Epoch 64/200\n",
      "160/160 [==============================] - 0s 953us/step - loss: 0.0261\n",
      "Epoch 65/200\n",
      "160/160 [==============================] - 0s 973us/step - loss: 0.0256\n",
      "Epoch 66/200\n",
      "160/160 [==============================] - 0s 962us/step - loss: 0.0259\n",
      "Epoch 67/200\n",
      "160/160 [==============================] - 0s 971us/step - loss: 0.0254\n",
      "Epoch 68/200\n",
      "160/160 [==============================] - 0s 982us/step - loss: 0.0258\n",
      "Epoch 69/200\n",
      "160/160 [==============================] - 0s 969us/step - loss: 0.0254\n",
      "Epoch 70/200\n",
      "160/160 [==============================] - 0s 953us/step - loss: 0.0252\n",
      "Epoch 71/200\n",
      "160/160 [==============================] - 0s 984us/step - loss: 0.0252\n",
      "Epoch 72/200\n",
      "160/160 [==============================] - 0s 969us/step - loss: 0.0247\n",
      "Epoch 73/200\n",
      "160/160 [==============================] - 0s 954us/step - loss: 0.0247\n",
      "Epoch 74/200\n",
      "160/160 [==============================] - 0s 965us/step - loss: 0.0246\n",
      "Epoch 75/200\n",
      "160/160 [==============================] - 0s 959us/step - loss: 0.0244\n",
      "Epoch 76/200\n",
      "160/160 [==============================] - 0s 968us/step - loss: 0.0241\n",
      "Epoch 77/200\n",
      "160/160 [==============================] - 0s 963us/step - loss: 0.0243\n",
      "Epoch 78/200\n",
      "160/160 [==============================] - 0s 941us/step - loss: 0.0243\n",
      "Epoch 79/200\n",
      "160/160 [==============================] - 0s 967us/step - loss: 0.0241\n",
      "Epoch 80/200\n",
      "160/160 [==============================] - 0s 971us/step - loss: 0.0238\n",
      "Epoch 81/200\n",
      "160/160 [==============================] - 0s 967us/step - loss: 0.0241\n",
      "Epoch 82/200\n",
      "160/160 [==============================] - 0s 979us/step - loss: 0.0237\n",
      "Epoch 83/200\n",
      "160/160 [==============================] - 0s 960us/step - loss: 0.0236\n",
      "Epoch 84/200\n",
      "160/160 [==============================] - 0s 953us/step - loss: 0.0237\n",
      "Epoch 85/200\n",
      "160/160 [==============================] - 0s 978us/step - loss: 0.0234\n",
      "Epoch 86/200\n",
      "160/160 [==============================] - 0s 968us/step - loss: 0.0237\n",
      "Epoch 87/200\n",
      "160/160 [==============================] - 0s 971us/step - loss: 0.0234\n",
      "Epoch 88/200\n",
      "160/160 [==============================] - 0s 952us/step - loss: 0.0229\n",
      "Epoch 89/200\n",
      "160/160 [==============================] - 0s 970us/step - loss: 0.0234\n",
      "Epoch 90/200\n",
      "160/160 [==============================] - 0s 963us/step - loss: 0.0228\n",
      "Epoch 91/200\n",
      "160/160 [==============================] - 0s 967us/step - loss: 0.0228\n",
      "Epoch 92/200\n",
      "160/160 [==============================] - 0s 990us/step - loss: 0.0226\n",
      "Epoch 93/200\n",
      "160/160 [==============================] - 0s 981us/step - loss: 0.0227\n",
      "Epoch 94/200\n",
      "160/160 [==============================] - 0s 989us/step - loss: 0.0224\n",
      "Epoch 95/200\n",
      "160/160 [==============================] - 0s 960us/step - loss: 0.0221\n",
      "Epoch 96/200\n",
      "160/160 [==============================] - 0s 987us/step - loss: 0.0222\n",
      "Epoch 97/200\n"
     ]
    },
    {
     "name": "stdout",
     "output_type": "stream",
     "text": [
      "160/160 [==============================] - 0s 963us/step - loss: 0.0225\n",
      "Epoch 98/200\n",
      "160/160 [==============================] - 0s 967us/step - loss: 0.0225\n",
      "Epoch 99/200\n",
      "160/160 [==============================] - 0s 994us/step - loss: 0.0218\n",
      "Epoch 100/200\n",
      "160/160 [==============================] - 0s 990us/step - loss: 0.0222\n",
      "Epoch 101/200\n",
      "160/160 [==============================] - 0s 948us/step - loss: 0.0218\n",
      "Epoch 102/200\n",
      "160/160 [==============================] - 0s 957us/step - loss: 0.0215\n",
      "Epoch 103/200\n",
      "160/160 [==============================] - 0s 966us/step - loss: 0.0221\n",
      "Epoch 104/200\n",
      "160/160 [==============================] - 0s 977us/step - loss: 0.0212\n",
      "Epoch 105/200\n",
      "160/160 [==============================] - 0s 990us/step - loss: 0.0216\n",
      "Epoch 106/200\n",
      "160/160 [==============================] - 0s 945us/step - loss: 0.0218\n",
      "Epoch 107/200\n",
      "160/160 [==============================] - 0s 1ms/step - loss: 0.0215\n",
      "Epoch 108/200\n",
      "160/160 [==============================] - 0s 958us/step - loss: 0.0210\n",
      "Epoch 109/200\n",
      "160/160 [==============================] - 0s 962us/step - loss: 0.0209\n",
      "Epoch 110/200\n",
      "160/160 [==============================] - 0s 967us/step - loss: 0.0210\n",
      "Epoch 111/200\n",
      "160/160 [==============================] - 0s 977us/step - loss: 0.0208\n",
      "Epoch 112/200\n",
      "160/160 [==============================] - 0s 958us/step - loss: 0.0207\n",
      "Epoch 113/200\n",
      "160/160 [==============================] - 0s 976us/step - loss: 0.0210\n",
      "Epoch 114/200\n",
      "160/160 [==============================] - 0s 979us/step - loss: 0.0206\n",
      "Epoch 115/200\n",
      "160/160 [==============================] - 0s 961us/step - loss: 0.0201\n",
      "Epoch 116/200\n",
      "160/160 [==============================] - 0s 966us/step - loss: 0.0207\n",
      "Epoch 117/200\n",
      "160/160 [==============================] - 0s 989us/step - loss: 0.0200\n",
      "Epoch 118/200\n",
      "160/160 [==============================] - 0s 970us/step - loss: 0.0203\n",
      "Epoch 119/200\n",
      "160/160 [==============================] - 0s 986us/step - loss: 0.0201\n",
      "Epoch 120/200\n",
      "160/160 [==============================] - 0s 959us/step - loss: 0.0196\n",
      "Epoch 121/200\n",
      "160/160 [==============================] - 0s 948us/step - loss: 0.0200\n",
      "Epoch 122/200\n",
      "160/160 [==============================] - 0s 966us/step - loss: 0.0196\n",
      "Epoch 123/200\n",
      "160/160 [==============================] - 0s 950us/step - loss: 0.0202\n",
      "Epoch 124/200\n",
      "160/160 [==============================] - 0s 979us/step - loss: 0.0200\n",
      "Epoch 125/200\n",
      "160/160 [==============================] - 0s 1ms/step - loss: 0.0196\n",
      "Epoch 126/200\n",
      "160/160 [==============================] - 0s 962us/step - loss: 0.0194\n",
      "Epoch 127/200\n",
      "160/160 [==============================] - 0s 989us/step - loss: 0.0194\n",
      "Epoch 128/200\n",
      "160/160 [==============================] - 0s 981us/step - loss: 0.0192\n",
      "Epoch 129/200\n",
      "160/160 [==============================] - 0s 963us/step - loss: 0.0187\n",
      "Epoch 130/200\n",
      "160/160 [==============================] - 0s 973us/step - loss: 0.0197\n",
      "Epoch 131/200\n",
      "160/160 [==============================] - 0s 960us/step - loss: 0.0188\n",
      "Epoch 132/200\n",
      "160/160 [==============================] - 0s 987us/step - loss: 0.0194\n",
      "Epoch 133/200\n",
      "160/160 [==============================] - 0s 952us/step - loss: 0.0190\n",
      "Epoch 134/200\n",
      "160/160 [==============================] - 0s 959us/step - loss: 0.0187\n",
      "Epoch 135/200\n",
      "160/160 [==============================] - 0s 965us/step - loss: 0.0190\n",
      "Epoch 136/200\n",
      "160/160 [==============================] - 0s 980us/step - loss: 0.0186\n",
      "Epoch 137/200\n",
      "160/160 [==============================] - 0s 974us/step - loss: 0.0190\n",
      "Epoch 138/200\n",
      "160/160 [==============================] - 0s 987us/step - loss: 0.0181\n",
      "Epoch 139/200\n",
      "160/160 [==============================] - 0s 968us/step - loss: 0.0184\n",
      "Epoch 140/200\n",
      "160/160 [==============================] - 0s 966us/step - loss: 0.0183\n",
      "Epoch 141/200\n",
      "160/160 [==============================] - 0s 974us/step - loss: 0.0188\n",
      "Epoch 142/200\n",
      "160/160 [==============================] - 0s 948us/step - loss: 0.0189\n",
      "Epoch 143/200\n",
      "160/160 [==============================] - 0s 957us/step - loss: 0.0180\n",
      "Epoch 144/200\n",
      "160/160 [==============================] - 0s 987us/step - loss: 0.0181\n",
      "Epoch 145/200\n",
      "160/160 [==============================] - 0s 953us/step - loss: 0.0182\n",
      "Epoch 146/200\n",
      "160/160 [==============================] - 0s 963us/step - loss: 0.0178\n",
      "Epoch 147/200\n",
      "160/160 [==============================] - 0s 973us/step - loss: 0.0184\n",
      "Epoch 148/200\n",
      "160/160 [==============================] - 0s 976us/step - loss: 0.0176\n",
      "Epoch 149/200\n",
      "160/160 [==============================] - 0s 978us/step - loss: 0.0181\n",
      "Epoch 150/200\n",
      "160/160 [==============================] - 0s 961us/step - loss: 0.0178\n",
      "Epoch 151/200\n",
      "160/160 [==============================] - 0s 984us/step - loss: 0.0181\n",
      "Epoch 152/200\n",
      "160/160 [==============================] - 0s 978us/step - loss: 0.0176\n",
      "Epoch 153/200\n",
      "160/160 [==============================] - 0s 979us/step - loss: 0.0181\n",
      "Epoch 154/200\n",
      "160/160 [==============================] - 0s 989us/step - loss: 0.0183\n",
      "Epoch 155/200\n",
      "160/160 [==============================] - 0s 981us/step - loss: 0.0186\n",
      "Epoch 156/200\n",
      "160/160 [==============================] - 0s 977us/step - loss: 0.0175\n",
      "Epoch 157/200\n",
      "160/160 [==============================] - 0s 986us/step - loss: 0.0177\n",
      "Epoch 158/200\n",
      "160/160 [==============================] - 0s 986us/step - loss: 0.0176\n",
      "Epoch 159/200\n",
      "160/160 [==============================] - 0s 986us/step - loss: 0.0172\n",
      "Epoch 160/200\n",
      "160/160 [==============================] - 0s 975us/step - loss: 0.0175\n",
      "Epoch 161/200\n",
      "160/160 [==============================] - 0s 965us/step - loss: 0.0173\n",
      "Epoch 162/200\n",
      "160/160 [==============================] - 0s 976us/step - loss: 0.0172\n",
      "Epoch 163/200\n",
      "160/160 [==============================] - 0s 977us/step - loss: 0.0171\n",
      "Epoch 164/200\n",
      "160/160 [==============================] - 0s 976us/step - loss: 0.0172\n",
      "Epoch 165/200\n",
      "160/160 [==============================] - 0s 976us/step - loss: 0.0171\n",
      "Epoch 166/200\n",
      "160/160 [==============================] - 0s 964us/step - loss: 0.0172\n",
      "Epoch 167/200\n",
      "160/160 [==============================] - 0s 985us/step - loss: 0.0168\n",
      "Epoch 168/200\n",
      "160/160 [==============================] - 0s 967us/step - loss: 0.0173\n",
      "Epoch 169/200\n",
      "160/160 [==============================] - 0s 974us/step - loss: 0.0171\n",
      "Epoch 170/200\n",
      "160/160 [==============================] - 0s 994us/step - loss: 0.0181\n",
      "Epoch 171/200\n",
      "160/160 [==============================] - 0s 974us/step - loss: 0.0174\n",
      "Epoch 172/200\n",
      "160/160 [==============================] - 0s 983us/step - loss: 0.0172\n",
      "Epoch 173/200\n",
      "160/160 [==============================] - 0s 980us/step - loss: 0.0164\n",
      "Epoch 174/200\n",
      "160/160 [==============================] - 0s 967us/step - loss: 0.0172\n",
      "Epoch 175/200\n",
      "160/160 [==============================] - 0s 965us/step - loss: 0.0170\n",
      "Epoch 176/200\n",
      "160/160 [==============================] - 0s 985us/step - loss: 0.0172\n",
      "Epoch 177/200\n",
      "160/160 [==============================] - 0s 980us/step - loss: 0.0166\n",
      "Epoch 178/200\n",
      "160/160 [==============================] - 0s 964us/step - loss: 0.0174\n",
      "Epoch 179/200\n",
      "160/160 [==============================] - 0s 980us/step - loss: 0.0169\n",
      "Epoch 180/200\n",
      "160/160 [==============================] - 0s 983us/step - loss: 0.0166\n",
      "Epoch 181/200\n",
      "160/160 [==============================] - 0s 980us/step - loss: 0.0170\n",
      "Epoch 182/200\n",
      "160/160 [==============================] - 0s 968us/step - loss: 0.0163\n",
      "Epoch 183/200\n",
      "160/160 [==============================] - 0s 1ms/step - loss: 0.0169\n",
      "Epoch 184/200\n",
      "160/160 [==============================] - 0s 971us/step - loss: 0.0162\n",
      "Epoch 185/200\n",
      "160/160 [==============================] - 0s 991us/step - loss: 0.0164\n",
      "Epoch 186/200\n",
      "160/160 [==============================] - 0s 980us/step - loss: 0.0164\n",
      "Epoch 187/200\n",
      "160/160 [==============================] - 0s 988us/step - loss: 0.0165\n",
      "Epoch 188/200\n",
      "160/160 [==============================] - 0s 977us/step - loss: 0.0165\n",
      "Epoch 189/200\n",
      "160/160 [==============================] - 0s 979us/step - loss: 0.0161\n",
      "Epoch 190/200\n",
      "160/160 [==============================] - 0s 982us/step - loss: 0.0163\n",
      "Epoch 191/200\n",
      "160/160 [==============================] - 0s 989us/step - loss: 0.0166\n",
      "Epoch 192/200\n"
     ]
    },
    {
     "name": "stdout",
     "output_type": "stream",
     "text": [
      "160/160 [==============================] - 0s 969us/step - loss: 0.0163\n",
      "Epoch 193/200\n",
      "160/160 [==============================] - 0s 984us/step - loss: 0.0163\n",
      "Epoch 194/200\n",
      "160/160 [==============================] - 0s 987us/step - loss: 0.0165\n",
      "Epoch 195/200\n",
      "160/160 [==============================] - 0s 1ms/step - loss: 0.0160\n",
      "Epoch 196/200\n",
      "160/160 [==============================] - 0s 960us/step - loss: 0.0163\n",
      "Epoch 197/200\n",
      "160/160 [==============================] - 0s 974us/step - loss: 0.0158\n",
      "Epoch 198/200\n",
      "160/160 [==============================] - 0s 971us/step - loss: 0.0166\n",
      "Epoch 199/200\n",
      "160/160 [==============================] - 0s 987us/step - loss: 0.0162\n",
      "Epoch 200/200\n",
      "160/160 [==============================] - 0s 970us/step - loss: 0.0163\n"
     ]
    },
    {
     "data": {
      "text/plain": [
       "<keras.src.callbacks.History at 0x7fb9ef034cd0>"
      ]
     },
     "execution_count": 27,
     "metadata": {},
     "output_type": "execute_result"
    }
   ],
   "source": [
    "# Fitting the ANN to the Training set\n",
    "model.fit(X_train, y_train, batch_size = 10, epochs = 200)"
   ]
  },
  {
   "cell_type": "code",
   "execution_count": 28,
   "id": "5454c6cf",
   "metadata": {
    "colab": {
     "base_uri": "https://localhost:8080/"
    },
    "executionInfo": {
     "elapsed": 18,
     "status": "ok",
     "timestamp": 1669154906393,
     "user": {
      "displayName": "Shivani Pillay",
      "userId": "04715400937082294154"
     },
     "user_tz": -120
    },
    "id": "5454c6cf",
    "outputId": "5a41712d-8e17-4a88-d5ac-2593a201e8ca"
   },
   "outputs": [
    {
     "name": "stdout",
     "output_type": "stream",
     "text": [
      "Model: \"sequential_1\"\n",
      "_________________________________________________________________\n",
      " Layer (type)                Output Shape              Param #   \n",
      "=================================================================\n",
      " dense_3 (Dense)             (None, 16)                144       \n",
      "                                                                 \n",
      " dense_4 (Dense)             (None, 20)                340       \n",
      "                                                                 \n",
      " dense_5 (Dense)             (None, 20)                420       \n",
      "                                                                 \n",
      " dense_6 (Dense)             (None, 8)                 168       \n",
      "                                                                 \n",
      " dense_7 (Dense)             (None, 1)                 9         \n",
      "                                                                 \n",
      "=================================================================\n",
      "Total params: 1081 (4.22 KB)\n",
      "Trainable params: 1081 (4.22 KB)\n",
      "Non-trainable params: 0 (0.00 Byte)\n",
      "_________________________________________________________________\n"
     ]
    }
   ],
   "source": [
    "model.summary()"
   ]
  },
  {
   "cell_type": "code",
   "execution_count": 29,
   "id": "sublime-assignment",
   "metadata": {
    "colab": {
     "base_uri": "https://localhost:8080/"
    },
    "executionInfo": {
     "elapsed": 11,
     "status": "ok",
     "timestamp": 1669154906393,
     "user": {
      "displayName": "Shivani Pillay",
      "userId": "04715400937082294154"
     },
     "user_tz": -120
    },
    "id": "sublime-assignment",
    "outputId": "1b682dbe-e812-4100-8541-b3d3dcb1bd97"
   },
   "outputs": [
    {
     "name": "stdout",
     "output_type": "stream",
     "text": [
      "13/13 [==============================] - 0s 946us/step\n"
     ]
    }
   ],
   "source": [
    "y_NN = model.predict(X_test).reshape(y_NN.shape[0],)"
   ]
  },
  {
   "cell_type": "code",
   "execution_count": 30,
   "id": "00dc17de",
   "metadata": {},
   "outputs": [
    {
     "name": "stdout",
     "output_type": "stream",
     "text": [
      "Mean Absolute Error: 0.1846\n",
      "Accuracy: 44.4168\n",
      "Mean Squared Error: 0.0534\n",
      "Variance Score: 0.0179\n"
     ]
    }
   ],
   "source": [
    "evaluate_model(y_NN)"
   ]
  },
  {
   "cell_type": "markdown",
   "id": "86460d98",
   "metadata": {
    "id": "86460d98"
   },
   "source": [
    "### Neural Network 3: 6 Layers, More Nodes in Each Layer"
   ]
  },
  {
   "cell_type": "code",
   "execution_count": 31,
   "id": "connected-franchise",
   "metadata": {
    "executionInfo": {
     "elapsed": 858,
     "status": "ok",
     "timestamp": 1669154992190,
     "user": {
      "displayName": "Shivani Pillay",
      "userId": "04715400937082294154"
     },
     "user_tz": -120
    },
    "id": "connected-franchise"
   },
   "outputs": [],
   "source": [
    "# Initialising the ANN\n",
    "model = Sequential()\n",
    "\n",
    "# Adding the input layer and the first hidden layer\n",
    "model.add(Dense(16, activation = 'relu', input_dim = 8))\n",
    "\n",
    "# Adding the second hidden layer\n",
    "model.add(Dense(units = 100, activation = 'relu'))\n",
    "\n",
    "# Adding the second hidden layer\n",
    "model.add(Dense(units = 100, activation = 'relu'))\n",
    "\n",
    "# Adding the second hidden layer\n",
    "model.add(Dense(units = 100, activation = 'relu'))\n",
    "\n",
    "# Adding the second hidden layer\n",
    "model.add(Dense(units = 8, activation = 'relu'))\n",
    "\n",
    "# Adding the output layer\n",
    "\n",
    "model.add(Dense(units = 1))\n",
    "\n",
    "# Compiling the ANN\n",
    "model.compile(optimizer = 'adam', loss = 'mean_squared_error')"
   ]
  },
  {
   "cell_type": "code",
   "execution_count": 32,
   "id": "relevant-metallic",
   "metadata": {
    "colab": {
     "base_uri": "https://localhost:8080/"
    },
    "executionInfo": {
     "elapsed": 142323,
     "status": "ok",
     "timestamp": 1669155135202,
     "user": {
      "displayName": "Shivani Pillay",
      "userId": "04715400937082294154"
     },
     "user_tz": -120
    },
    "id": "relevant-metallic",
    "outputId": "8ff18d17-7dd1-41de-9c21-19627d6d7e5c"
   },
   "outputs": [
    {
     "name": "stdout",
     "output_type": "stream",
     "text": [
      "Epoch 1/200\n",
      "160/160 [==============================] - 1s 1ms/step - loss: 0.0744\n",
      "Epoch 2/200\n",
      "160/160 [==============================] - 0s 1ms/step - loss: 0.0520\n",
      "Epoch 3/200\n",
      "160/160 [==============================] - 0s 1ms/step - loss: 0.0507\n",
      "Epoch 4/200\n",
      "160/160 [==============================] - 0s 1ms/step - loss: 0.0483\n",
      "Epoch 5/200\n",
      "160/160 [==============================] - 0s 1ms/step - loss: 0.0467\n",
      "Epoch 6/200\n",
      "160/160 [==============================] - 0s 1ms/step - loss: 0.0448\n",
      "Epoch 7/200\n",
      "160/160 [==============================] - 0s 1ms/step - loss: 0.0407\n",
      "Epoch 8/200\n",
      "160/160 [==============================] - 0s 1ms/step - loss: 0.0386\n",
      "Epoch 9/200\n",
      "160/160 [==============================] - 0s 1ms/step - loss: 0.0344\n",
      "Epoch 10/200\n",
      "160/160 [==============================] - 0s 1ms/step - loss: 0.0311\n",
      "Epoch 11/200\n",
      "160/160 [==============================] - 0s 1ms/step - loss: 0.0282\n",
      "Epoch 12/200\n",
      "160/160 [==============================] - 0s 1ms/step - loss: 0.0270\n",
      "Epoch 13/200\n",
      "160/160 [==============================] - 0s 1ms/step - loss: 0.0241\n",
      "Epoch 14/200\n",
      "160/160 [==============================] - 0s 1ms/step - loss: 0.0218\n",
      "Epoch 15/200\n",
      "160/160 [==============================] - 0s 1ms/step - loss: 0.0196\n",
      "Epoch 16/200\n",
      "160/160 [==============================] - 0s 1ms/step - loss: 0.0190\n",
      "Epoch 17/200\n",
      "160/160 [==============================] - 0s 1ms/step - loss: 0.0166\n",
      "Epoch 18/200\n",
      "160/160 [==============================] - 0s 1ms/step - loss: 0.0151\n",
      "Epoch 19/200\n",
      "160/160 [==============================] - 0s 1ms/step - loss: 0.0139\n",
      "Epoch 20/200\n",
      "160/160 [==============================] - 0s 1ms/step - loss: 0.0124\n",
      "Epoch 21/200\n",
      "160/160 [==============================] - 0s 1ms/step - loss: 0.0134\n",
      "Epoch 22/200\n",
      "160/160 [==============================] - 0s 1ms/step - loss: 0.0112\n",
      "Epoch 23/200\n",
      "160/160 [==============================] - 0s 1ms/step - loss: 0.0103\n",
      "Epoch 24/200\n",
      "160/160 [==============================] - 0s 1ms/step - loss: 0.0095\n",
      "Epoch 25/200\n",
      "160/160 [==============================] - 0s 1ms/step - loss: 0.0081\n",
      "Epoch 26/200\n",
      "160/160 [==============================] - 0s 1ms/step - loss: 0.0078\n",
      "Epoch 27/200\n",
      "160/160 [==============================] - 0s 1ms/step - loss: 0.0071\n",
      "Epoch 28/200\n",
      "160/160 [==============================] - 0s 1ms/step - loss: 0.0069\n",
      "Epoch 29/200\n",
      "160/160 [==============================] - 0s 1ms/step - loss: 0.0062\n",
      "Epoch 30/200\n",
      "160/160 [==============================] - 0s 1ms/step - loss: 0.0064\n",
      "Epoch 31/200\n",
      "160/160 [==============================] - 0s 1ms/step - loss: 0.0051\n",
      "Epoch 32/200\n",
      "160/160 [==============================] - 0s 1ms/step - loss: 0.0050\n",
      "Epoch 33/200\n",
      "160/160 [==============================] - 0s 1ms/step - loss: 0.0050\n",
      "Epoch 34/200\n",
      "160/160 [==============================] - 0s 1ms/step - loss: 0.0050\n",
      "Epoch 35/200\n",
      "160/160 [==============================] - 0s 1ms/step - loss: 0.0053\n",
      "Epoch 36/200\n",
      "160/160 [==============================] - 0s 1ms/step - loss: 0.0049\n",
      "Epoch 37/200\n",
      "160/160 [==============================] - 0s 1ms/step - loss: 0.0043\n",
      "Epoch 38/200\n",
      "160/160 [==============================] - 0s 1ms/step - loss: 0.0036\n",
      "Epoch 39/200\n",
      "160/160 [==============================] - 0s 1ms/step - loss: 0.0038\n",
      "Epoch 40/200\n",
      "160/160 [==============================] - 0s 1ms/step - loss: 0.0034\n",
      "Epoch 41/200\n",
      "160/160 [==============================] - 0s 1ms/step - loss: 0.0033\n",
      "Epoch 42/200\n",
      "160/160 [==============================] - 0s 1ms/step - loss: 0.0034\n",
      "Epoch 43/200\n",
      "160/160 [==============================] - 0s 1ms/step - loss: 0.0037\n",
      "Epoch 44/200\n",
      "160/160 [==============================] - 0s 1ms/step - loss: 0.0037\n",
      "Epoch 45/200\n",
      "160/160 [==============================] - 0s 1ms/step - loss: 0.0029\n",
      "Epoch 46/200\n",
      "160/160 [==============================] - 0s 1ms/step - loss: 0.0027\n",
      "Epoch 47/200\n",
      "160/160 [==============================] - 0s 1ms/step - loss: 0.0027\n",
      "Epoch 48/200\n",
      "160/160 [==============================] - 0s 1ms/step - loss: 0.0026\n",
      "Epoch 49/200\n",
      "160/160 [==============================] - 0s 1ms/step - loss: 0.0032\n",
      "Epoch 50/200\n",
      "160/160 [==============================] - 0s 1ms/step - loss: 0.0028\n",
      "Epoch 51/200\n",
      "160/160 [==============================] - 0s 1ms/step - loss: 0.0026\n",
      "Epoch 52/200\n",
      "160/160 [==============================] - 0s 1ms/step - loss: 0.0031\n",
      "Epoch 53/200\n",
      "160/160 [==============================] - 0s 1ms/step - loss: 0.0023\n",
      "Epoch 54/200\n",
      "160/160 [==============================] - 0s 1ms/step - loss: 0.0022\n",
      "Epoch 55/200\n",
      "160/160 [==============================] - 0s 1ms/step - loss: 0.0024\n",
      "Epoch 56/200\n",
      "160/160 [==============================] - 0s 1ms/step - loss: 0.0021\n",
      "Epoch 57/200\n",
      "160/160 [==============================] - 0s 1ms/step - loss: 0.0021\n",
      "Epoch 58/200\n",
      "160/160 [==============================] - 0s 1ms/step - loss: 0.0024\n",
      "Epoch 59/200\n",
      "160/160 [==============================] - 0s 1ms/step - loss: 0.0020\n",
      "Epoch 60/200\n",
      "160/160 [==============================] - 0s 1ms/step - loss: 0.0021\n",
      "Epoch 61/200\n",
      "160/160 [==============================] - 0s 1ms/step - loss: 0.0026\n",
      "Epoch 62/200\n",
      "160/160 [==============================] - 0s 1ms/step - loss: 0.0029\n",
      "Epoch 63/200\n",
      "160/160 [==============================] - 0s 1ms/step - loss: 0.0025\n",
      "Epoch 64/200\n",
      "160/160 [==============================] - 0s 1ms/step - loss: 0.0020\n",
      "Epoch 65/200\n",
      "160/160 [==============================] - 0s 1ms/step - loss: 0.0017\n",
      "Epoch 66/200\n",
      "160/160 [==============================] - 0s 1ms/step - loss: 0.0015\n",
      "Epoch 67/200\n",
      "160/160 [==============================] - 0s 1ms/step - loss: 0.0015\n",
      "Epoch 68/200\n",
      "160/160 [==============================] - 0s 1ms/step - loss: 0.0018\n",
      "Epoch 69/200\n",
      "160/160 [==============================] - 0s 1ms/step - loss: 0.0019\n",
      "Epoch 70/200\n",
      "160/160 [==============================] - 0s 1ms/step - loss: 0.0017\n",
      "Epoch 71/200\n",
      "160/160 [==============================] - 0s 1ms/step - loss: 0.0025\n",
      "Epoch 72/200\n",
      "160/160 [==============================] - 0s 1ms/step - loss: 0.0027\n",
      "Epoch 73/200\n",
      "160/160 [==============================] - 0s 1ms/step - loss: 0.0022\n",
      "Epoch 74/200\n",
      "160/160 [==============================] - 0s 1ms/step - loss: 0.0015\n",
      "Epoch 75/200\n",
      "160/160 [==============================] - 0s 1ms/step - loss: 0.0017\n",
      "Epoch 76/200\n",
      "160/160 [==============================] - 0s 1ms/step - loss: 0.0018\n",
      "Epoch 77/200\n",
      "160/160 [==============================] - 0s 1ms/step - loss: 0.0015\n",
      "Epoch 78/200\n",
      "160/160 [==============================] - 0s 1ms/step - loss: 0.0011\n",
      "Epoch 79/200\n",
      "160/160 [==============================] - 0s 1ms/step - loss: 0.0013\n",
      "Epoch 80/200\n",
      "160/160 [==============================] - 0s 1ms/step - loss: 0.0018\n",
      "Epoch 81/200\n",
      "160/160 [==============================] - 0s 1ms/step - loss: 0.0023\n",
      "Epoch 82/200\n",
      "160/160 [==============================] - 0s 1ms/step - loss: 0.0023\n",
      "Epoch 83/200\n",
      "160/160 [==============================] - 0s 1ms/step - loss: 0.0017\n",
      "Epoch 84/200\n",
      "160/160 [==============================] - 0s 1ms/step - loss: 0.0015\n",
      "Epoch 85/200\n",
      "160/160 [==============================] - 0s 1ms/step - loss: 0.0013\n",
      "Epoch 86/200\n",
      "160/160 [==============================] - 0s 1ms/step - loss: 0.0015\n",
      "Epoch 87/200\n",
      "160/160 [==============================] - 0s 1ms/step - loss: 0.0016\n",
      "Epoch 88/200\n",
      "160/160 [==============================] - 0s 1ms/step - loss: 0.0015\n",
      "Epoch 89/200\n",
      "160/160 [==============================] - 0s 1ms/step - loss: 0.0015\n",
      "Epoch 90/200\n",
      "160/160 [==============================] - 0s 1ms/step - loss: 0.0013\n",
      "Epoch 91/200\n",
      "160/160 [==============================] - 0s 1ms/step - loss: 0.0014\n",
      "Epoch 92/200\n",
      "160/160 [==============================] - 0s 1ms/step - loss: 0.0013\n",
      "Epoch 93/200\n",
      "160/160 [==============================] - 0s 1ms/step - loss: 0.0012\n",
      "Epoch 94/200\n",
      "160/160 [==============================] - 0s 1ms/step - loss: 0.0013\n",
      "Epoch 95/200\n",
      "160/160 [==============================] - 0s 1ms/step - loss: 0.0014\n",
      "Epoch 96/200\n",
      "160/160 [==============================] - 0s 1ms/step - loss: 0.0016\n",
      "Epoch 97/200\n",
      "160/160 [==============================] - 0s 1ms/step - loss: 0.0018\n",
      "Epoch 98/200\n",
      "160/160 [==============================] - 0s 1ms/step - loss: 0.0017\n",
      "Epoch 99/200\n"
     ]
    },
    {
     "name": "stdout",
     "output_type": "stream",
     "text": [
      "160/160 [==============================] - 0s 1ms/step - loss: 0.0017\n",
      "Epoch 100/200\n",
      "160/160 [==============================] - 0s 1ms/step - loss: 0.0014\n",
      "Epoch 101/200\n",
      "160/160 [==============================] - 0s 1ms/step - loss: 0.0010\n",
      "Epoch 102/200\n",
      "160/160 [==============================] - 0s 1ms/step - loss: 0.0012\n",
      "Epoch 103/200\n",
      "160/160 [==============================] - 0s 1ms/step - loss: 0.0011\n",
      "Epoch 104/200\n",
      "160/160 [==============================] - 0s 1ms/step - loss: 0.0013\n",
      "Epoch 105/200\n",
      "160/160 [==============================] - 0s 1ms/step - loss: 0.0016\n",
      "Epoch 106/200\n",
      "160/160 [==============================] - 0s 1ms/step - loss: 0.0015\n",
      "Epoch 107/200\n",
      "160/160 [==============================] - 0s 1ms/step - loss: 0.0015\n",
      "Epoch 108/200\n",
      "160/160 [==============================] - 0s 1ms/step - loss: 0.0012\n",
      "Epoch 109/200\n",
      "160/160 [==============================] - 0s 1ms/step - loss: 0.0016\n",
      "Epoch 110/200\n",
      "160/160 [==============================] - 0s 1ms/step - loss: 0.0017\n",
      "Epoch 111/200\n",
      "160/160 [==============================] - 0s 1ms/step - loss: 0.0014\n",
      "Epoch 112/200\n",
      "160/160 [==============================] - 0s 1ms/step - loss: 0.0015\n",
      "Epoch 113/200\n",
      "160/160 [==============================] - 0s 1ms/step - loss: 0.0011\n",
      "Epoch 114/200\n",
      "160/160 [==============================] - 0s 1ms/step - loss: 0.0011\n",
      "Epoch 115/200\n",
      "160/160 [==============================] - 0s 1ms/step - loss: 9.0224e-04\n",
      "Epoch 116/200\n",
      "160/160 [==============================] - 0s 1ms/step - loss: 8.1638e-04\n",
      "Epoch 117/200\n",
      "160/160 [==============================] - 0s 1ms/step - loss: 9.3809e-04\n",
      "Epoch 118/200\n",
      "160/160 [==============================] - 0s 1ms/step - loss: 0.0012\n",
      "Epoch 119/200\n",
      "160/160 [==============================] - 0s 1ms/step - loss: 0.0011\n",
      "Epoch 120/200\n",
      "160/160 [==============================] - 0s 1ms/step - loss: 9.0784e-04\n",
      "Epoch 121/200\n",
      "160/160 [==============================] - 0s 1ms/step - loss: 8.3530e-04\n",
      "Epoch 122/200\n",
      "160/160 [==============================] - 0s 1ms/step - loss: 0.0012\n",
      "Epoch 123/200\n",
      "160/160 [==============================] - 0s 1ms/step - loss: 0.0014\n",
      "Epoch 124/200\n",
      "160/160 [==============================] - 0s 1ms/step - loss: 0.0019\n",
      "Epoch 125/200\n",
      "160/160 [==============================] - 0s 1ms/step - loss: 0.0016\n",
      "Epoch 126/200\n",
      "160/160 [==============================] - 0s 1ms/step - loss: 0.0013\n",
      "Epoch 127/200\n",
      "160/160 [==============================] - 0s 1ms/step - loss: 0.0011\n",
      "Epoch 128/200\n",
      "160/160 [==============================] - 0s 1ms/step - loss: 9.4514e-04\n",
      "Epoch 129/200\n",
      "160/160 [==============================] - 0s 1ms/step - loss: 8.2833e-04\n",
      "Epoch 130/200\n",
      "160/160 [==============================] - 0s 1ms/step - loss: 8.6490e-04\n",
      "Epoch 131/200\n",
      "160/160 [==============================] - 0s 1ms/step - loss: 9.0644e-04\n",
      "Epoch 132/200\n",
      "160/160 [==============================] - 0s 1ms/step - loss: 0.0010\n",
      "Epoch 133/200\n",
      "160/160 [==============================] - 0s 1ms/step - loss: 0.0015\n",
      "Epoch 134/200\n",
      "160/160 [==============================] - 0s 1ms/step - loss: 0.0012\n",
      "Epoch 135/200\n",
      "160/160 [==============================] - 0s 1ms/step - loss: 0.0014\n",
      "Epoch 136/200\n",
      "160/160 [==============================] - 0s 1ms/step - loss: 0.0012\n",
      "Epoch 137/200\n",
      "160/160 [==============================] - 0s 1ms/step - loss: 8.3429e-04\n",
      "Epoch 138/200\n",
      "160/160 [==============================] - 0s 1ms/step - loss: 7.3484e-04\n",
      "Epoch 139/200\n",
      "160/160 [==============================] - 0s 1ms/step - loss: 9.2546e-04\n",
      "Epoch 140/200\n",
      "160/160 [==============================] - 0s 1ms/step - loss: 7.2997e-04\n",
      "Epoch 141/200\n",
      "160/160 [==============================] - 0s 1ms/step - loss: 6.5790e-04\n",
      "Epoch 142/200\n",
      "160/160 [==============================] - 0s 1ms/step - loss: 8.8820e-04\n",
      "Epoch 143/200\n",
      "160/160 [==============================] - 0s 1ms/step - loss: 9.5155e-04\n",
      "Epoch 144/200\n",
      "160/160 [==============================] - 0s 1ms/step - loss: 8.9278e-04\n",
      "Epoch 145/200\n",
      "160/160 [==============================] - 0s 1ms/step - loss: 8.8018e-04\n",
      "Epoch 146/200\n",
      "160/160 [==============================] - 0s 1ms/step - loss: 9.5898e-04\n",
      "Epoch 147/200\n",
      "160/160 [==============================] - 0s 1ms/step - loss: 9.2976e-04\n",
      "Epoch 148/200\n",
      "160/160 [==============================] - 0s 1ms/step - loss: 0.0012\n",
      "Epoch 149/200\n",
      "160/160 [==============================] - 0s 1ms/step - loss: 0.0016\n",
      "Epoch 150/200\n",
      "160/160 [==============================] - 0s 1ms/step - loss: 0.0016\n",
      "Epoch 151/200\n",
      "160/160 [==============================] - 0s 1ms/step - loss: 0.0013\n",
      "Epoch 152/200\n",
      "160/160 [==============================] - 0s 1ms/step - loss: 8.0924e-04\n",
      "Epoch 153/200\n",
      "160/160 [==============================] - 0s 1ms/step - loss: 5.6885e-04\n",
      "Epoch 154/200\n",
      "160/160 [==============================] - 0s 1ms/step - loss: 4.5962e-04\n",
      "Epoch 155/200\n",
      "160/160 [==============================] - 0s 1ms/step - loss: 5.1932e-04\n",
      "Epoch 156/200\n",
      "160/160 [==============================] - 0s 1ms/step - loss: 4.6456e-04\n",
      "Epoch 157/200\n",
      "160/160 [==============================] - 0s 1ms/step - loss: 5.5461e-04\n",
      "Epoch 158/200\n",
      "160/160 [==============================] - 0s 1ms/step - loss: 6.7170e-04\n",
      "Epoch 159/200\n",
      "160/160 [==============================] - 0s 1ms/step - loss: 0.0011\n",
      "Epoch 160/200\n",
      "160/160 [==============================] - 0s 1ms/step - loss: 0.0015\n",
      "Epoch 161/200\n",
      "160/160 [==============================] - 0s 1ms/step - loss: 0.0012\n",
      "Epoch 162/200\n",
      "160/160 [==============================] - 0s 1ms/step - loss: 0.0013\n",
      "Epoch 163/200\n",
      "160/160 [==============================] - 0s 1ms/step - loss: 9.7263e-04\n",
      "Epoch 164/200\n",
      "160/160 [==============================] - 0s 1ms/step - loss: 0.0010\n",
      "Epoch 165/200\n",
      "160/160 [==============================] - 0s 1ms/step - loss: 7.5749e-04\n",
      "Epoch 166/200\n",
      "160/160 [==============================] - 0s 1ms/step - loss: 7.1285e-04\n",
      "Epoch 167/200\n",
      "160/160 [==============================] - 0s 1ms/step - loss: 8.5991e-04\n",
      "Epoch 168/200\n",
      "160/160 [==============================] - 0s 1ms/step - loss: 8.0606e-04\n",
      "Epoch 169/200\n",
      "160/160 [==============================] - 0s 1ms/step - loss: 0.0010\n",
      "Epoch 170/200\n",
      "160/160 [==============================] - 0s 1ms/step - loss: 7.6563e-04\n",
      "Epoch 171/200\n",
      "160/160 [==============================] - 0s 1ms/step - loss: 6.0413e-04\n",
      "Epoch 172/200\n",
      "160/160 [==============================] - 0s 1ms/step - loss: 5.3190e-04\n",
      "Epoch 173/200\n",
      "160/160 [==============================] - 0s 1ms/step - loss: 6.9848e-04\n",
      "Epoch 174/200\n",
      "160/160 [==============================] - 0s 1ms/step - loss: 9.9579e-04\n",
      "Epoch 175/200\n",
      "160/160 [==============================] - 0s 1ms/step - loss: 0.0013\n",
      "Epoch 176/200\n",
      "160/160 [==============================] - 0s 1ms/step - loss: 0.0017\n",
      "Epoch 177/200\n",
      "160/160 [==============================] - 0s 1ms/step - loss: 0.0011\n",
      "Epoch 178/200\n",
      "160/160 [==============================] - 0s 1ms/step - loss: 7.1095e-04\n",
      "Epoch 179/200\n",
      "160/160 [==============================] - 0s 1ms/step - loss: 4.8199e-04\n",
      "Epoch 180/200\n",
      "160/160 [==============================] - 0s 1ms/step - loss: 4.9414e-04\n",
      "Epoch 181/200\n",
      "160/160 [==============================] - 0s 1ms/step - loss: 4.9335e-04\n",
      "Epoch 182/200\n",
      "160/160 [==============================] - 0s 1ms/step - loss: 5.8250e-04\n",
      "Epoch 183/200\n",
      "160/160 [==============================] - 0s 1ms/step - loss: 5.6599e-04\n",
      "Epoch 184/200\n",
      "160/160 [==============================] - 0s 1ms/step - loss: 7.7009e-04\n",
      "Epoch 185/200\n",
      "160/160 [==============================] - 0s 1ms/step - loss: 7.5174e-04\n",
      "Epoch 186/200\n",
      "160/160 [==============================] - 0s 1ms/step - loss: 0.0010\n",
      "Epoch 187/200\n",
      "160/160 [==============================] - 0s 1ms/step - loss: 0.0014\n",
      "Epoch 188/200\n",
      "160/160 [==============================] - 0s 1ms/step - loss: 0.0010\n",
      "Epoch 189/200\n",
      "160/160 [==============================] - 0s 1ms/step - loss: 7.2089e-04\n",
      "Epoch 190/200\n",
      "160/160 [==============================] - 0s 1ms/step - loss: 5.6166e-04\n",
      "Epoch 191/200\n",
      "160/160 [==============================] - 0s 1ms/step - loss: 4.8139e-04\n",
      "Epoch 192/200\n",
      "160/160 [==============================] - 0s 1ms/step - loss: 3.9103e-04\n",
      "Epoch 193/200\n",
      "160/160 [==============================] - 0s 1ms/step - loss: 3.9220e-04\n",
      "Epoch 194/200\n"
     ]
    },
    {
     "name": "stdout",
     "output_type": "stream",
     "text": [
      "160/160 [==============================] - 0s 1ms/step - loss: 5.4064e-04\n",
      "Epoch 195/200\n",
      "160/160 [==============================] - 0s 1ms/step - loss: 8.6946e-04\n",
      "Epoch 196/200\n",
      "160/160 [==============================] - 0s 1ms/step - loss: 0.0012\n",
      "Epoch 197/200\n",
      "160/160 [==============================] - 0s 1ms/step - loss: 0.0014\n",
      "Epoch 198/200\n",
      "160/160 [==============================] - 0s 1ms/step - loss: 0.0021\n",
      "Epoch 199/200\n",
      "160/160 [==============================] - 0s 1ms/step - loss: 0.0010\n",
      "Epoch 200/200\n",
      "160/160 [==============================] - 0s 1ms/step - loss: 5.9059e-04\n"
     ]
    },
    {
     "data": {
      "text/plain": [
       "<keras.src.callbacks.History at 0x7fb9efe07eb0>"
      ]
     },
     "execution_count": 32,
     "metadata": {},
     "output_type": "execute_result"
    }
   ],
   "source": [
    "# Fitting the ANN to the Training set\n",
    "model.fit(X_train, y_train, batch_size = 10, epochs = 200)"
   ]
  },
  {
   "cell_type": "code",
   "execution_count": 33,
   "id": "b7b72371",
   "metadata": {
    "colab": {
     "base_uri": "https://localhost:8080/"
    },
    "executionInfo": {
     "elapsed": 17,
     "status": "ok",
     "timestamp": 1669155135203,
     "user": {
      "displayName": "Shivani Pillay",
      "userId": "04715400937082294154"
     },
     "user_tz": -120
    },
    "id": "b7b72371",
    "outputId": "74eda9f3-4643-4ec8-ae66-ece3a5fd676b"
   },
   "outputs": [
    {
     "name": "stdout",
     "output_type": "stream",
     "text": [
      "Model: \"sequential_2\"\n",
      "_________________________________________________________________\n",
      " Layer (type)                Output Shape              Param #   \n",
      "=================================================================\n",
      " dense_8 (Dense)             (None, 16)                144       \n",
      "                                                                 \n",
      " dense_9 (Dense)             (None, 100)               1700      \n",
      "                                                                 \n",
      " dense_10 (Dense)            (None, 100)               10100     \n",
      "                                                                 \n",
      " dense_11 (Dense)            (None, 100)               10100     \n",
      "                                                                 \n",
      " dense_12 (Dense)            (None, 8)                 808       \n",
      "                                                                 \n",
      " dense_13 (Dense)            (None, 1)                 9         \n",
      "                                                                 \n",
      "=================================================================\n",
      "Total params: 22861 (89.30 KB)\n",
      "Trainable params: 22861 (89.30 KB)\n",
      "Non-trainable params: 0 (0.00 Byte)\n",
      "_________________________________________________________________\n"
     ]
    }
   ],
   "source": [
    "model.summary()"
   ]
  },
  {
   "cell_type": "code",
   "execution_count": 34,
   "id": "indie-silver",
   "metadata": {
    "colab": {
     "base_uri": "https://localhost:8080/"
    },
    "executionInfo": {
     "elapsed": 12,
     "status": "ok",
     "timestamp": 1669155135203,
     "user": {
      "displayName": "Shivani Pillay",
      "userId": "04715400937082294154"
     },
     "user_tz": -120
    },
    "id": "indie-silver",
    "outputId": "3a56b500-68ca-4351-db21-ca5e0603f016"
   },
   "outputs": [
    {
     "name": "stdout",
     "output_type": "stream",
     "text": [
      "13/13 [==============================] - 0s 982us/step\n"
     ]
    }
   ],
   "source": [
    "y_NN = model.predict(X_test).reshape(y_NN.shape[0],)"
   ]
  },
  {
   "cell_type": "code",
   "execution_count": 35,
   "id": "0d199733",
   "metadata": {},
   "outputs": [
    {
     "name": "stdout",
     "output_type": "stream",
     "text": [
      "Mean Absolute Error: 0.1352\n",
      "Accuracy: 60.1257\n",
      "Mean Squared Error: 0.031\n",
      "Variance Score: 0.4296\n"
     ]
    }
   ],
   "source": [
    "evaluate_model(y_NN)"
   ]
  },
  {
   "cell_type": "markdown",
   "id": "fcc378bc",
   "metadata": {
    "id": "fcc378bc"
   },
   "source": [
    "### Neural Network 4: 6 Layers, More Nodes, with Batch Normalisation and Dropout"
   ]
  },
  {
   "cell_type": "code",
   "execution_count": 36,
   "id": "nuclear-basket",
   "metadata": {
    "executionInfo": {
     "elapsed": 560,
     "status": "ok",
     "timestamp": 1669155135757,
     "user": {
      "displayName": "Shivani Pillay",
      "userId": "04715400937082294154"
     },
     "user_tz": -120
    },
    "id": "nuclear-basket"
   },
   "outputs": [],
   "source": [
    "# Initialising the ANN\n",
    "model = Sequential()\n",
    "\n",
    "# Adding the input layer and the first hidden layer\n",
    "model.add(Dense(16, activation = 'relu', input_dim = 8))\n",
    "model.add(BatchNormalization())\n",
    "# Adding the second hidden layer\n",
    "model.add(Dense(units = 200))\n",
    "model.add(BatchNormalization())\n",
    "model.add(Activation('relu'))\n",
    "model.add(Dropout(0.3))\n",
    "# Adding the second hidden layer\n",
    "model.add(Dense(units = 300))\n",
    "model.add(BatchNormalization())\n",
    "model.add(Activation('relu'))\n",
    "model.add(Dropout(0.3))\n",
    "# Adding the second hidden layer\n",
    "model.add(Dense(units = 200))\n",
    "model.add(Activation('relu'))\n",
    "model.add(Dropout(0.3))\n",
    "# Adding the second hidden layer\n",
    "model.add(Dense(units = 8, activation = 'relu'))\n",
    "# Adding the output layer\n",
    "model.add(Dense(units = 1))\n",
    "\n",
    "# Compiling the ANN\n",
    "model.compile(optimizer = 'adam', loss = 'mean_squared_error')"
   ]
  },
  {
   "cell_type": "code",
   "execution_count": 37,
   "id": "wicked-access",
   "metadata": {
    "colab": {
     "base_uri": "https://localhost:8080/"
    },
    "id": "wicked-access",
    "outputId": "5e5f7545-ffe8-47d6-874b-9b5e1d69fc6a"
   },
   "outputs": [
    {
     "name": "stdout",
     "output_type": "stream",
     "text": [
      "Epoch 1/200\n",
      "80/80 [==============================] - 1s 2ms/step - loss: 0.1569\n",
      "Epoch 2/200\n",
      "80/80 [==============================] - 0s 2ms/step - loss: 0.0822\n",
      "Epoch 3/200\n",
      "80/80 [==============================] - 0s 2ms/step - loss: 0.0688\n",
      "Epoch 4/200\n",
      "80/80 [==============================] - 0s 3ms/step - loss: 0.0641\n",
      "Epoch 5/200\n",
      "80/80 [==============================] - 0s 2ms/step - loss: 0.0593\n",
      "Epoch 6/200\n",
      "80/80 [==============================] - 0s 2ms/step - loss: 0.0592\n",
      "Epoch 7/200\n",
      "80/80 [==============================] - 0s 2ms/step - loss: 0.0564\n",
      "Epoch 8/200\n",
      "80/80 [==============================] - 0s 2ms/step - loss: 0.0531\n",
      "Epoch 9/200\n",
      "80/80 [==============================] - 0s 2ms/step - loss: 0.0546\n",
      "Epoch 10/200\n",
      "80/80 [==============================] - 0s 2ms/step - loss: 0.0530\n",
      "Epoch 11/200\n",
      "80/80 [==============================] - 0s 2ms/step - loss: 0.0515\n",
      "Epoch 12/200\n",
      "80/80 [==============================] - 0s 2ms/step - loss: 0.0501\n",
      "Epoch 13/200\n",
      "80/80 [==============================] - 0s 2ms/step - loss: 0.0497\n",
      "Epoch 14/200\n",
      "80/80 [==============================] - 0s 2ms/step - loss: 0.0504\n",
      "Epoch 15/200\n",
      "80/80 [==============================] - 0s 2ms/step - loss: 0.0497\n",
      "Epoch 16/200\n",
      "80/80 [==============================] - 0s 2ms/step - loss: 0.0479\n",
      "Epoch 17/200\n",
      "80/80 [==============================] - 0s 2ms/step - loss: 0.0490\n",
      "Epoch 18/200\n",
      "80/80 [==============================] - 0s 2ms/step - loss: 0.0476\n",
      "Epoch 19/200\n",
      "80/80 [==============================] - 0s 2ms/step - loss: 0.0472\n",
      "Epoch 20/200\n",
      "80/80 [==============================] - 0s 2ms/step - loss: 0.0479\n",
      "Epoch 21/200\n",
      "80/80 [==============================] - 0s 2ms/step - loss: 0.0467\n",
      "Epoch 22/200\n",
      "80/80 [==============================] - 0s 2ms/step - loss: 0.0460\n",
      "Epoch 23/200\n",
      "80/80 [==============================] - 0s 2ms/step - loss: 0.0464\n",
      "Epoch 24/200\n",
      "80/80 [==============================] - 0s 2ms/step - loss: 0.0462\n",
      "Epoch 25/200\n",
      "80/80 [==============================] - 0s 2ms/step - loss: 0.0437\n",
      "Epoch 26/200\n",
      "80/80 [==============================] - 0s 2ms/step - loss: 0.0454\n",
      "Epoch 27/200\n",
      "80/80 [==============================] - 0s 2ms/step - loss: 0.0434\n",
      "Epoch 28/200\n",
      "80/80 [==============================] - 0s 2ms/step - loss: 0.0440\n",
      "Epoch 29/200\n",
      "80/80 [==============================] - 0s 2ms/step - loss: 0.0436\n",
      "Epoch 30/200\n",
      "80/80 [==============================] - 0s 2ms/step - loss: 0.0417\n",
      "Epoch 31/200\n",
      "80/80 [==============================] - 0s 2ms/step - loss: 0.0432\n",
      "Epoch 32/200\n",
      "80/80 [==============================] - 0s 2ms/step - loss: 0.0417\n",
      "Epoch 33/200\n",
      "80/80 [==============================] - 0s 2ms/step - loss: 0.0416\n",
      "Epoch 34/200\n",
      "80/80 [==============================] - 0s 2ms/step - loss: 0.0419\n",
      "Epoch 35/200\n",
      "80/80 [==============================] - 0s 2ms/step - loss: 0.0418\n",
      "Epoch 36/200\n",
      "80/80 [==============================] - 0s 2ms/step - loss: 0.0410\n",
      "Epoch 37/200\n",
      "80/80 [==============================] - 0s 2ms/step - loss: 0.0407\n",
      "Epoch 38/200\n",
      "80/80 [==============================] - 0s 2ms/step - loss: 0.0391\n",
      "Epoch 39/200\n",
      "80/80 [==============================] - 0s 2ms/step - loss: 0.0390\n",
      "Epoch 40/200\n",
      "80/80 [==============================] - 0s 2ms/step - loss: 0.0394\n",
      "Epoch 41/200\n",
      "80/80 [==============================] - 0s 2ms/step - loss: 0.0396\n",
      "Epoch 42/200\n",
      "80/80 [==============================] - 0s 2ms/step - loss: 0.0401\n",
      "Epoch 43/200\n",
      "80/80 [==============================] - 0s 2ms/step - loss: 0.0390\n",
      "Epoch 44/200\n",
      "80/80 [==============================] - 0s 2ms/step - loss: 0.0389\n",
      "Epoch 45/200\n",
      "80/80 [==============================] - 0s 2ms/step - loss: 0.0382\n",
      "Epoch 46/200\n",
      "80/80 [==============================] - 0s 2ms/step - loss: 0.0389\n",
      "Epoch 47/200\n",
      "80/80 [==============================] - 0s 2ms/step - loss: 0.0379\n",
      "Epoch 48/200\n",
      "80/80 [==============================] - 0s 2ms/step - loss: 0.0373\n",
      "Epoch 49/200\n",
      "80/80 [==============================] - 0s 2ms/step - loss: 0.0383\n",
      "Epoch 50/200\n",
      "80/80 [==============================] - 0s 2ms/step - loss: 0.0370\n",
      "Epoch 51/200\n",
      "80/80 [==============================] - 0s 2ms/step - loss: 0.0358\n",
      "Epoch 52/200\n",
      "80/80 [==============================] - 0s 2ms/step - loss: 0.0359\n",
      "Epoch 53/200\n",
      "80/80 [==============================] - 0s 2ms/step - loss: 0.0356\n",
      "Epoch 54/200\n",
      "80/80 [==============================] - 0s 2ms/step - loss: 0.0360\n",
      "Epoch 55/200\n",
      "80/80 [==============================] - 0s 2ms/step - loss: 0.0356\n",
      "Epoch 56/200\n",
      "80/80 [==============================] - 0s 2ms/step - loss: 0.0356\n",
      "Epoch 57/200\n",
      "80/80 [==============================] - 0s 2ms/step - loss: 0.0350\n",
      "Epoch 58/200\n",
      "80/80 [==============================] - 0s 2ms/step - loss: 0.0351\n",
      "Epoch 59/200\n",
      "80/80 [==============================] - 0s 2ms/step - loss: 0.0348\n",
      "Epoch 60/200\n",
      "80/80 [==============================] - 0s 2ms/step - loss: 0.0349\n",
      "Epoch 61/200\n",
      "80/80 [==============================] - 0s 2ms/step - loss: 0.0338\n",
      "Epoch 62/200\n",
      "80/80 [==============================] - 0s 3ms/step - loss: 0.0355\n",
      "Epoch 63/200\n",
      "80/80 [==============================] - 0s 3ms/step - loss: 0.0333\n",
      "Epoch 64/200\n",
      "80/80 [==============================] - 0s 2ms/step - loss: 0.0336\n",
      "Epoch 65/200\n",
      "80/80 [==============================] - 0s 2ms/step - loss: 0.0336\n",
      "Epoch 66/200\n",
      "80/80 [==============================] - 0s 2ms/step - loss: 0.0341\n",
      "Epoch 67/200\n",
      "80/80 [==============================] - 0s 2ms/step - loss: 0.0342\n",
      "Epoch 68/200\n",
      "80/80 [==============================] - 0s 2ms/step - loss: 0.0345\n",
      "Epoch 69/200\n",
      "80/80 [==============================] - 0s 2ms/step - loss: 0.0342\n",
      "Epoch 70/200\n",
      "80/80 [==============================] - 0s 2ms/step - loss: 0.0322\n",
      "Epoch 71/200\n",
      "80/80 [==============================] - 0s 2ms/step - loss: 0.0334\n",
      "Epoch 72/200\n",
      "80/80 [==============================] - 0s 2ms/step - loss: 0.0322\n",
      "Epoch 73/200\n",
      "80/80 [==============================] - 0s 2ms/step - loss: 0.0339\n",
      "Epoch 74/200\n",
      "80/80 [==============================] - 0s 2ms/step - loss: 0.0328\n",
      "Epoch 75/200\n",
      "80/80 [==============================] - 0s 2ms/step - loss: 0.0309\n",
      "Epoch 76/200\n",
      "80/80 [==============================] - 0s 2ms/step - loss: 0.0324\n",
      "Epoch 77/200\n",
      "80/80 [==============================] - 0s 2ms/step - loss: 0.0320\n",
      "Epoch 78/200\n",
      "80/80 [==============================] - 0s 2ms/step - loss: 0.0316\n",
      "Epoch 79/200\n",
      "80/80 [==============================] - 0s 2ms/step - loss: 0.0312\n",
      "Epoch 80/200\n",
      "80/80 [==============================] - 0s 2ms/step - loss: 0.0304\n",
      "Epoch 81/200\n",
      "80/80 [==============================] - 0s 2ms/step - loss: 0.0320\n",
      "Epoch 82/200\n",
      "80/80 [==============================] - 0s 2ms/step - loss: 0.0301\n",
      "Epoch 83/200\n",
      "80/80 [==============================] - 0s 2ms/step - loss: 0.0309\n",
      "Epoch 84/200\n",
      "80/80 [==============================] - 0s 2ms/step - loss: 0.0311\n",
      "Epoch 85/200\n",
      "80/80 [==============================] - 0s 2ms/step - loss: 0.0308\n",
      "Epoch 86/200\n",
      "80/80 [==============================] - 0s 2ms/step - loss: 0.0313\n",
      "Epoch 87/200\n",
      "80/80 [==============================] - 0s 2ms/step - loss: 0.0313\n",
      "Epoch 88/200\n",
      "80/80 [==============================] - 0s 2ms/step - loss: 0.0305\n",
      "Epoch 89/200\n",
      "80/80 [==============================] - 0s 2ms/step - loss: 0.0297\n",
      "Epoch 90/200\n",
      "80/80 [==============================] - 0s 2ms/step - loss: 0.0286\n",
      "Epoch 91/200\n",
      "80/80 [==============================] - 0s 2ms/step - loss: 0.0294\n",
      "Epoch 92/200\n",
      "80/80 [==============================] - 0s 2ms/step - loss: 0.0311\n",
      "Epoch 93/200\n",
      "80/80 [==============================] - 0s 2ms/step - loss: 0.0302\n",
      "Epoch 94/200\n",
      "80/80 [==============================] - 0s 2ms/step - loss: 0.0288\n",
      "Epoch 95/200\n",
      "80/80 [==============================] - 0s 2ms/step - loss: 0.0295\n",
      "Epoch 96/200\n",
      "80/80 [==============================] - 0s 2ms/step - loss: 0.0292\n",
      "Epoch 97/200\n",
      "80/80 [==============================] - 0s 2ms/step - loss: 0.0291\n",
      "Epoch 98/200\n",
      "80/80 [==============================] - 0s 2ms/step - loss: 0.0294\n",
      "Epoch 99/200\n",
      "80/80 [==============================] - 0s 2ms/step - loss: 0.0281\n",
      "Epoch 100/200\n",
      "80/80 [==============================] - 0s 2ms/step - loss: 0.0289\n",
      "Epoch 101/200\n",
      "80/80 [==============================] - 0s 2ms/step - loss: 0.0291\n",
      "Epoch 102/200\n"
     ]
    },
    {
     "name": "stdout",
     "output_type": "stream",
     "text": [
      "80/80 [==============================] - 0s 2ms/step - loss: 0.0305\n",
      "Epoch 103/200\n",
      "80/80 [==============================] - 0s 2ms/step - loss: 0.0291\n",
      "Epoch 104/200\n",
      "80/80 [==============================] - 0s 2ms/step - loss: 0.0291\n",
      "Epoch 105/200\n",
      "80/80 [==============================] - 0s 2ms/step - loss: 0.0287\n",
      "Epoch 106/200\n",
      "80/80 [==============================] - 0s 2ms/step - loss: 0.0279\n",
      "Epoch 107/200\n",
      "80/80 [==============================] - 0s 2ms/step - loss: 0.0282\n",
      "Epoch 108/200\n",
      "80/80 [==============================] - 0s 2ms/step - loss: 0.0290\n",
      "Epoch 109/200\n",
      "80/80 [==============================] - 0s 2ms/step - loss: 0.0269\n",
      "Epoch 110/200\n",
      "80/80 [==============================] - 0s 2ms/step - loss: 0.0277\n",
      "Epoch 111/200\n",
      "80/80 [==============================] - 0s 2ms/step - loss: 0.0280\n",
      "Epoch 112/200\n",
      "80/80 [==============================] - 0s 2ms/step - loss: 0.0283\n",
      "Epoch 113/200\n",
      "80/80 [==============================] - 0s 2ms/step - loss: 0.0275\n",
      "Epoch 114/200\n",
      "80/80 [==============================] - 0s 2ms/step - loss: 0.0263\n",
      "Epoch 115/200\n",
      "80/80 [==============================] - 0s 2ms/step - loss: 0.0266\n",
      "Epoch 116/200\n",
      "80/80 [==============================] - 0s 2ms/step - loss: 0.0256\n",
      "Epoch 117/200\n",
      "80/80 [==============================] - 0s 2ms/step - loss: 0.0247\n",
      "Epoch 118/200\n",
      "80/80 [==============================] - 0s 2ms/step - loss: 0.0257\n",
      "Epoch 119/200\n",
      "80/80 [==============================] - 0s 2ms/step - loss: 0.0267\n",
      "Epoch 120/200\n",
      "80/80 [==============================] - 0s 2ms/step - loss: 0.0273\n",
      "Epoch 121/200\n",
      "80/80 [==============================] - 0s 2ms/step - loss: 0.0261\n",
      "Epoch 122/200\n",
      "80/80 [==============================] - 0s 2ms/step - loss: 0.0274\n",
      "Epoch 123/200\n",
      "80/80 [==============================] - 0s 2ms/step - loss: 0.0252\n",
      "Epoch 124/200\n",
      "80/80 [==============================] - 0s 2ms/step - loss: 0.0263\n",
      "Epoch 125/200\n",
      "80/80 [==============================] - 0s 2ms/step - loss: 0.0256\n",
      "Epoch 126/200\n",
      "80/80 [==============================] - 0s 2ms/step - loss: 0.0271\n",
      "Epoch 127/200\n",
      "80/80 [==============================] - 0s 2ms/step - loss: 0.0257\n",
      "Epoch 128/200\n",
      "80/80 [==============================] - 0s 2ms/step - loss: 0.0261\n",
      "Epoch 129/200\n",
      "80/80 [==============================] - 0s 2ms/step - loss: 0.0242\n",
      "Epoch 130/200\n",
      "80/80 [==============================] - 0s 2ms/step - loss: 0.0262\n",
      "Epoch 131/200\n",
      "80/80 [==============================] - 0s 2ms/step - loss: 0.0258\n",
      "Epoch 132/200\n",
      "80/80 [==============================] - 0s 2ms/step - loss: 0.0250\n",
      "Epoch 133/200\n",
      "80/80 [==============================] - 0s 2ms/step - loss: 0.0268\n",
      "Epoch 134/200\n",
      "80/80 [==============================] - 0s 2ms/step - loss: 0.0253\n",
      "Epoch 135/200\n",
      "80/80 [==============================] - 0s 2ms/step - loss: 0.0250\n",
      "Epoch 136/200\n",
      "80/80 [==============================] - 0s 2ms/step - loss: 0.0252\n",
      "Epoch 137/200\n",
      "80/80 [==============================] - 0s 2ms/step - loss: 0.0254\n",
      "Epoch 138/200\n",
      "80/80 [==============================] - 0s 2ms/step - loss: 0.0235\n",
      "Epoch 139/200\n",
      "80/80 [==============================] - 0s 2ms/step - loss: 0.0254\n",
      "Epoch 140/200\n",
      "80/80 [==============================] - 0s 2ms/step - loss: 0.0250\n",
      "Epoch 141/200\n",
      "80/80 [==============================] - 0s 2ms/step - loss: 0.0248\n",
      "Epoch 142/200\n",
      "80/80 [==============================] - 0s 2ms/step - loss: 0.0258\n",
      "Epoch 143/200\n",
      "80/80 [==============================] - 0s 2ms/step - loss: 0.0251\n",
      "Epoch 144/200\n",
      "80/80 [==============================] - 0s 2ms/step - loss: 0.0249\n",
      "Epoch 145/200\n",
      "80/80 [==============================] - 0s 2ms/step - loss: 0.0252\n",
      "Epoch 146/200\n",
      "80/80 [==============================] - 0s 2ms/step - loss: 0.0242\n",
      "Epoch 147/200\n",
      "80/80 [==============================] - 0s 2ms/step - loss: 0.0242\n",
      "Epoch 148/200\n",
      "80/80 [==============================] - 0s 2ms/step - loss: 0.0241\n",
      "Epoch 149/200\n",
      "80/80 [==============================] - 0s 2ms/step - loss: 0.0244\n",
      "Epoch 150/200\n",
      "80/80 [==============================] - 0s 2ms/step - loss: 0.0244\n",
      "Epoch 151/200\n",
      "80/80 [==============================] - 0s 2ms/step - loss: 0.0246\n",
      "Epoch 152/200\n",
      "80/80 [==============================] - 0s 2ms/step - loss: 0.0248\n",
      "Epoch 153/200\n",
      "80/80 [==============================] - 0s 2ms/step - loss: 0.0246\n",
      "Epoch 154/200\n",
      "80/80 [==============================] - 0s 2ms/step - loss: 0.0239\n",
      "Epoch 155/200\n",
      "80/80 [==============================] - 0s 2ms/step - loss: 0.0234\n",
      "Epoch 156/200\n",
      "80/80 [==============================] - 0s 2ms/step - loss: 0.0239\n",
      "Epoch 157/200\n",
      "80/80 [==============================] - 0s 2ms/step - loss: 0.0247\n",
      "Epoch 158/200\n",
      "80/80 [==============================] - 0s 2ms/step - loss: 0.0235\n",
      "Epoch 159/200\n",
      "80/80 [==============================] - 0s 2ms/step - loss: 0.0235\n",
      "Epoch 160/200\n",
      "80/80 [==============================] - 0s 2ms/step - loss: 0.0234\n",
      "Epoch 161/200\n",
      "80/80 [==============================] - 0s 2ms/step - loss: 0.0231\n",
      "Epoch 162/200\n",
      "80/80 [==============================] - 0s 2ms/step - loss: 0.0236\n",
      "Epoch 163/200\n",
      "80/80 [==============================] - 0s 2ms/step - loss: 0.0232\n",
      "Epoch 164/200\n",
      "80/80 [==============================] - 0s 2ms/step - loss: 0.0243\n",
      "Epoch 165/200\n",
      "80/80 [==============================] - 0s 3ms/step - loss: 0.0233\n",
      "Epoch 166/200\n",
      "80/80 [==============================] - 0s 3ms/step - loss: 0.0245\n",
      "Epoch 167/200\n",
      "80/80 [==============================] - 0s 2ms/step - loss: 0.0223\n",
      "Epoch 168/200\n",
      "80/80 [==============================] - 0s 2ms/step - loss: 0.0227\n",
      "Epoch 169/200\n",
      "80/80 [==============================] - 0s 2ms/step - loss: 0.0223\n",
      "Epoch 170/200\n",
      "80/80 [==============================] - 0s 2ms/step - loss: 0.0246\n",
      "Epoch 171/200\n",
      "80/80 [==============================] - 0s 2ms/step - loss: 0.0233\n",
      "Epoch 172/200\n",
      "80/80 [==============================] - 0s 2ms/step - loss: 0.0226\n",
      "Epoch 173/200\n",
      "80/80 [==============================] - 0s 2ms/step - loss: 0.0237\n",
      "Epoch 174/200\n",
      "80/80 [==============================] - 0s 2ms/step - loss: 0.0227\n",
      "Epoch 175/200\n",
      "80/80 [==============================] - 0s 2ms/step - loss: 0.0230\n",
      "Epoch 176/200\n",
      "80/80 [==============================] - 0s 2ms/step - loss: 0.0243\n",
      "Epoch 177/200\n",
      "80/80 [==============================] - 0s 2ms/step - loss: 0.0230\n",
      "Epoch 178/200\n",
      "80/80 [==============================] - 0s 2ms/step - loss: 0.0223\n",
      "Epoch 179/200\n",
      "80/80 [==============================] - 0s 2ms/step - loss: 0.0208\n",
      "Epoch 180/200\n",
      "80/80 [==============================] - 0s 2ms/step - loss: 0.0223\n",
      "Epoch 181/200\n",
      "80/80 [==============================] - 0s 2ms/step - loss: 0.0224\n",
      "Epoch 182/200\n",
      "80/80 [==============================] - 0s 2ms/step - loss: 0.0222\n",
      "Epoch 183/200\n",
      "80/80 [==============================] - 0s 2ms/step - loss: 0.0229\n",
      "Epoch 184/200\n",
      "80/80 [==============================] - 0s 2ms/step - loss: 0.0223\n",
      "Epoch 185/200\n",
      "80/80 [==============================] - 0s 2ms/step - loss: 0.0227\n",
      "Epoch 186/200\n",
      "80/80 [==============================] - 0s 2ms/step - loss: 0.0215\n",
      "Epoch 187/200\n",
      "80/80 [==============================] - 0s 2ms/step - loss: 0.0232\n",
      "Epoch 188/200\n",
      "80/80 [==============================] - 0s 2ms/step - loss: 0.0228\n",
      "Epoch 189/200\n",
      "80/80 [==============================] - 0s 2ms/step - loss: 0.0225\n",
      "Epoch 190/200\n",
      "80/80 [==============================] - 0s 2ms/step - loss: 0.0218\n",
      "Epoch 191/200\n",
      "80/80 [==============================] - 0s 2ms/step - loss: 0.0227\n",
      "Epoch 192/200\n",
      "80/80 [==============================] - 0s 2ms/step - loss: 0.0237\n",
      "Epoch 193/200\n",
      "80/80 [==============================] - 0s 2ms/step - loss: 0.0224\n",
      "Epoch 194/200\n",
      "80/80 [==============================] - 0s 2ms/step - loss: 0.0212\n",
      "Epoch 195/200\n",
      "80/80 [==============================] - 0s 2ms/step - loss: 0.0227\n",
      "Epoch 196/200\n",
      "80/80 [==============================] - 0s 2ms/step - loss: 0.0222\n",
      "Epoch 197/200\n",
      "80/80 [==============================] - 0s 2ms/step - loss: 0.0213\n",
      "Epoch 198/200\n",
      "80/80 [==============================] - 0s 2ms/step - loss: 0.0222\n",
      "Epoch 199/200\n",
      "80/80 [==============================] - 0s 2ms/step - loss: 0.0221\n",
      "Epoch 200/200\n",
      "80/80 [==============================] - 0s 2ms/step - loss: 0.0218\n"
     ]
    },
    {
     "data": {
      "text/plain": [
       "<keras.src.callbacks.History at 0x7fb9f01b0160>"
      ]
     },
     "execution_count": 37,
     "metadata": {},
     "output_type": "execute_result"
    }
   ],
   "source": [
    "# Fitting the ANN to the Training set\n",
    "model.fit(X_train, y_train, batch_size = 20, epochs = 200)"
   ]
  },
  {
   "cell_type": "code",
   "execution_count": 38,
   "id": "supported-stretch",
   "metadata": {
    "id": "supported-stretch"
   },
   "outputs": [
    {
     "name": "stdout",
     "output_type": "stream",
     "text": [
      "13/13 [==============================] - 0s 1ms/step\n"
     ]
    }
   ],
   "source": [
    "y_NN = model.predict(X_test).reshape(y_NN.shape[0],)"
   ]
  },
  {
   "cell_type": "code",
   "execution_count": 39,
   "id": "7920e06f",
   "metadata": {},
   "outputs": [
    {
     "name": "stdout",
     "output_type": "stream",
     "text": [
      "Mean Absolute Error: 0.1207\n",
      "Accuracy: 59.6382\n",
      "Mean Squared Error: 0.0235\n",
      "Variance Score: 0.567\n"
     ]
    }
   ],
   "source": [
    "evaluate_model(y_NN)"
   ]
  }
 ],
 "metadata": {
  "colab": {
   "collapsed_sections": [
    "31d26450",
    "ab7a1907",
    "f39f9ec2",
    "9feed890",
    "dd6b10f2",
    "684c60e1",
    "005b309f",
    "35c654de",
    "86460d98",
    "fcc378bc"
   ],
   "provenance": []
  },
  "kernelspec": {
   "display_name": "Python 3 (ipykernel)",
   "language": "python",
   "name": "python3"
  },
  "language_info": {
   "codemirror_mode": {
    "name": "ipython",
    "version": 3
   },
   "file_extension": ".py",
   "mimetype": "text/x-python",
   "name": "python",
   "nbconvert_exporter": "python",
   "pygments_lexer": "ipython3",
   "version": "3.9.15"
  }
 },
 "nbformat": 4,
 "nbformat_minor": 5
}
